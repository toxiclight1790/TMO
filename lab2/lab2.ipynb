{
 "cells": [
  {
   "cell_type": "markdown",
   "metadata": {
    "id": "ujknUPfDvKMJ"
   },
   "source": [
    "# Обработка пропусков в данных, кодирование категориальных признаков, масштабирование данных."
   ]
  },
  {
   "cell_type": "code",
   "execution_count": 2,
   "metadata": {
    "id": "5P8Vr-resgBC"
   },
   "outputs": [],
   "source": [
    "import numpy as np\n",
    "import pandas as pd\n",
    "import seaborn as sns\n",
    "import matplotlib.pyplot as plt\n",
    "%matplotlib inline\n",
    "sns.set(style=\"ticks\")\n",
    "from sklearn.preprocessing import LabelEncoder\n",
    "from sklearn.preprocessing import MinMaxScaler, StandardScaler, Normalizer"
   ]
  },
  {
   "cell_type": "code",
   "execution_count": 3,
   "metadata": {
    "id": "TgFPaMmquLFr"
   },
   "outputs": [],
   "source": [
    "\n",
    "data = pd.read_csv('Engineering_books_data.csv', sep=\",\")"
   ]
  },
  {
   "cell_type": "code",
   "execution_count": 4,
   "metadata": {
    "colab": {
     "base_uri": "https://localhost:8080/"
    },
    "id": "6jPTcl2juiik",
    "outputId": "5d69fa49-9519-491a-81b5-51ac8324cd73"
   },
   "outputs": [
    {
     "data": {
      "text/plain": [
       "(2375, 10)"
      ]
     },
     "execution_count": 4,
     "metadata": {},
     "output_type": "execute_result"
    }
   ],
   "source": [
    "# размер набора данных\n",
    "data.shape"
   ]
  },
  {
   "cell_type": "code",
   "execution_count": 5,
   "metadata": {
    "colab": {
     "base_uri": "https://localhost:8080/"
    },
    "id": "alPp5HwaunLT",
    "outputId": "53350bad-7e93-4e63-a138-9084190e782a"
   },
   "outputs": [
    {
     "data": {
      "text/plain": [
       "title             object\n",
       "author            object\n",
       "image             object\n",
       "desc              object\n",
       "download_link     object\n",
       "pages            float64\n",
       "publisher         object\n",
       "year             float64\n",
       "language          object\n",
       "file              object\n",
       "dtype: object"
      ]
     },
     "execution_count": 5,
     "metadata": {},
     "output_type": "execute_result"
    }
   ],
   "source": [
    "# типы колонок\n",
    "data.dtypes\n"
   ]
  },
  {
   "cell_type": "code",
   "execution_count": 6,
   "metadata": {
    "colab": {
     "base_uri": "https://localhost:8080/"
    },
    "id": "tu-aWrq5uqXm",
    "outputId": "4fabf5f7-a983-4659-d78f-ced096b381bb"
   },
   "outputs": [
    {
     "data": {
      "text/plain": [
       "title              0\n",
       "author            22\n",
       "image              3\n",
       "desc             624\n",
       "download_link     79\n",
       "pages            387\n",
       "publisher        280\n",
       "year             151\n",
       "language          20\n",
       "file               0\n",
       "dtype: int64"
      ]
     },
     "execution_count": 6,
     "metadata": {},
     "output_type": "execute_result"
    }
   ],
   "source": [
    "# проверим есть ли пропущенные значения\n",
    "data.isnull().sum()"
   ]
  },
  {
   "cell_type": "code",
   "execution_count": 7,
   "metadata": {
    "colab": {
     "base_uri": "https://localhost:8080/",
     "height": 206
    },
    "id": "Gr6bQKeBuwPR",
    "outputId": "5d2af408-4aeb-480a-c5f4-99a0d2c6bd23"
   },
   "outputs": [
    {
     "data": {
      "text/html": [
       "<div>\n",
       "<style scoped>\n",
       "    .dataframe tbody tr th:only-of-type {\n",
       "        vertical-align: middle;\n",
       "    }\n",
       "\n",
       "    .dataframe tbody tr th {\n",
       "        vertical-align: top;\n",
       "    }\n",
       "\n",
       "    .dataframe thead th {\n",
       "        text-align: right;\n",
       "    }\n",
       "</style>\n",
       "<table border=\"1\" class=\"dataframe\">\n",
       "  <thead>\n",
       "    <tr style=\"text-align: right;\">\n",
       "      <th></th>\n",
       "      <th>title</th>\n",
       "      <th>author</th>\n",
       "      <th>image</th>\n",
       "      <th>desc</th>\n",
       "      <th>download_link</th>\n",
       "      <th>pages</th>\n",
       "      <th>publisher</th>\n",
       "      <th>year</th>\n",
       "      <th>language</th>\n",
       "      <th>file</th>\n",
       "    </tr>\n",
       "  </thead>\n",
       "  <tbody>\n",
       "    <tr>\n",
       "      <th>0</th>\n",
       "      <td>Soil Mechanics of Earthworks, Foundations and ...</td>\n",
       "      <td>NaN</td>\n",
       "      <td>https://covers.zlibcdn2.com/covers100/books/01...</td>\n",
       "      <td>\\n                    This is the third volume...</td>\n",
       "      <td>https://1lib.in/dl/2279969/9cd462</td>\n",
       "      <td>354.0</td>\n",
       "      <td>Elsevier Science</td>\n",
       "      <td>1988.0</td>\n",
       "      <td>english</td>\n",
       "      <td>PDF, 9.35 MB</td>\n",
       "    </tr>\n",
       "    <tr>\n",
       "      <th>1</th>\n",
       "      <td>Foundation Engineering: Design and Constructio...</td>\n",
       "      <td>B.B.K. Huat</td>\n",
       "      <td>https://covers.zlibcdn2.com/covers100/books/1b...</td>\n",
       "      <td>\\n                    Residual soils are found...</td>\n",
       "      <td>https://1lib.in/dl/1247565/f9e712</td>\n",
       "      <td>256.0</td>\n",
       "      <td>Taylor &amp; Francis</td>\n",
       "      <td>2006.0</td>\n",
       "      <td>english</td>\n",
       "      <td>PDF, 86.52 MB</td>\n",
       "    </tr>\n",
       "    <tr>\n",
       "      <th>2</th>\n",
       "      <td>Practical Problems in Soil Mechanics and Found...</td>\n",
       "      <td>Sheng Y. Peng</td>\n",
       "      <td>https://covers.zlibcdn2.com/covers100/books/7d...</td>\n",
       "      <td>NaN</td>\n",
       "      <td>https://1lib.in/dl/2800423/3ccf77</td>\n",
       "      <td>346.0</td>\n",
       "      <td>Elsevier Science Ltd</td>\n",
       "      <td>1985.0</td>\n",
       "      <td>english</td>\n",
       "      <td>PDF, 9.86 MB</td>\n",
       "    </tr>\n",
       "    <tr>\n",
       "      <th>3</th>\n",
       "      <td>Underwater Embankments on Soft Soil A Case His...</td>\n",
       "      <td>William F. van Impe</td>\n",
       "      <td>https://covers.zlibcdn2.com/covers100/books/2b...</td>\n",
       "      <td>NaN</td>\n",
       "      <td>https://1lib.in/dl/981008/e79e1d</td>\n",
       "      <td>154.0</td>\n",
       "      <td>NaN</td>\n",
       "      <td>2007.0</td>\n",
       "      <td>english</td>\n",
       "      <td>PDF, 3.35 MB</td>\n",
       "    </tr>\n",
       "    <tr>\n",
       "      <th>4</th>\n",
       "      <td>Eco- and Ground Bio-Engineering: The Use of Ve...</td>\n",
       "      <td>Alexia Stokes</td>\n",
       "      <td>https://covers.zlibcdn2.com/covers100/books/d2...</td>\n",
       "      <td>\\n                    This volume brings toget...</td>\n",
       "      <td>https://1lib.in/dl/901430/e57c96</td>\n",
       "      <td>420.0</td>\n",
       "      <td>NaN</td>\n",
       "      <td>2007.0</td>\n",
       "      <td>english</td>\n",
       "      <td>PDF, 10.67 MB</td>\n",
       "    </tr>\n",
       "  </tbody>\n",
       "</table>\n",
       "</div>"
      ],
      "text/plain": [
       "                                               title               author  \\\n",
       "0  Soil Mechanics of Earthworks, Foundations and ...                  NaN   \n",
       "1  Foundation Engineering: Design and Constructio...          B.B.K. Huat   \n",
       "2  Practical Problems in Soil Mechanics and Found...        Sheng Y. Peng   \n",
       "3  Underwater Embankments on Soft Soil A Case His...  William F. van Impe   \n",
       "4  Eco- and Ground Bio-Engineering: The Use of Ve...        Alexia Stokes   \n",
       "\n",
       "                                               image  \\\n",
       "0  https://covers.zlibcdn2.com/covers100/books/01...   \n",
       "1  https://covers.zlibcdn2.com/covers100/books/1b...   \n",
       "2  https://covers.zlibcdn2.com/covers100/books/7d...   \n",
       "3  https://covers.zlibcdn2.com/covers100/books/2b...   \n",
       "4  https://covers.zlibcdn2.com/covers100/books/d2...   \n",
       "\n",
       "                                                desc  \\\n",
       "0  \\n                    This is the third volume...   \n",
       "1  \\n                    Residual soils are found...   \n",
       "2                                                NaN   \n",
       "3                                                NaN   \n",
       "4  \\n                    This volume brings toget...   \n",
       "\n",
       "                       download_link  pages             publisher    year  \\\n",
       "0  https://1lib.in/dl/2279969/9cd462  354.0      Elsevier Science  1988.0   \n",
       "1  https://1lib.in/dl/1247565/f9e712  256.0      Taylor & Francis  2006.0   \n",
       "2  https://1lib.in/dl/2800423/3ccf77  346.0  Elsevier Science Ltd  1985.0   \n",
       "3   https://1lib.in/dl/981008/e79e1d  154.0                   NaN  2007.0   \n",
       "4   https://1lib.in/dl/901430/e57c96  420.0                   NaN  2007.0   \n",
       "\n",
       "  language           file  \n",
       "0  english   PDF, 9.35 MB  \n",
       "1  english  PDF, 86.52 MB  \n",
       "2  english   PDF, 9.86 MB  \n",
       "3  english   PDF, 3.35 MB  \n",
       "4  english  PDF, 10.67 MB  "
      ]
     },
     "execution_count": 7,
     "metadata": {},
     "output_type": "execute_result"
    }
   ],
   "source": [
    "# Первые 5 строк датасета\n",
    "data.head()"
   ]
  },
  {
   "cell_type": "code",
   "execution_count": 8,
   "metadata": {
    "colab": {
     "base_uri": "https://localhost:8080/"
    },
    "id": "M3lhORQUu8bL",
    "outputId": "d0975b74-a42f-4a76-ab60-419ff189f0b0"
   },
   "outputs": [
    {
     "name": "stdout",
     "output_type": "stream",
     "text": [
      "Всего строк: 2375\n"
     ]
    }
   ],
   "source": [
    "total_count = data.shape[0]\n",
    "print('Всего строк: {}'.format(total_count))"
   ]
  },
  {
   "cell_type": "markdown",
   "metadata": {
    "id": "JMQwDYwpvFea"
   },
   "source": [
    "# Обработка пропусков в данных"
   ]
  },
  {
   "cell_type": "markdown",
   "metadata": {
    "id": "qKTMgmRivpug"
   },
   "source": [
    "Удаление может производиться для группы строк или колонок."
   ]
  },
  {
   "cell_type": "code",
   "execution_count": 9,
   "metadata": {
    "colab": {
     "base_uri": "https://localhost:8080/"
    },
    "id": "5Yu-CgRDvG1O",
    "outputId": "d8ea3eef-3d18-4b46-e728-0f186d807a55"
   },
   "outputs": [
    {
     "data": {
      "text/plain": [
       "((2375, 10), (2375, 2))"
      ]
     },
     "execution_count": 9,
     "metadata": {},
     "output_type": "execute_result"
    }
   ],
   "source": [
    "# Удаление колонок, содержащих пустые значения\n",
    "data_new_1 = data.dropna(axis=1, how='any')\n",
    "(data.shape, data_new_1.shape)"
   ]
  },
  {
   "cell_type": "code",
   "execution_count": 10,
   "metadata": {
    "colab": {
     "base_uri": "https://localhost:8080/"
    },
    "id": "h1-nHIKVvyqD",
    "outputId": "d9c04605-2138-4471-a8e7-f4aa414a94f9"
   },
   "outputs": [
    {
     "data": {
      "text/plain": [
       "((2375, 10), (1439, 10))"
      ]
     },
     "execution_count": 10,
     "metadata": {},
     "output_type": "execute_result"
    }
   ],
   "source": [
    "# Удаление строк, содержащих пустые значения\n",
    "data_new_2 = data.dropna(axis=0, how='any')\n",
    "(data.shape, data_new_2.shape)"
   ]
  },
  {
   "cell_type": "code",
   "execution_count": 11,
   "metadata": {
    "colab": {
     "base_uri": "https://localhost:8080/",
     "height": 206
    },
    "id": "IHdThzhLvz62",
    "outputId": "1b5579e3-3cfd-4467-f050-92e6d5f96ad6"
   },
   "outputs": [
    {
     "data": {
      "text/html": [
       "<div>\n",
       "<style scoped>\n",
       "    .dataframe tbody tr th:only-of-type {\n",
       "        vertical-align: middle;\n",
       "    }\n",
       "\n",
       "    .dataframe tbody tr th {\n",
       "        vertical-align: top;\n",
       "    }\n",
       "\n",
       "    .dataframe thead th {\n",
       "        text-align: right;\n",
       "    }\n",
       "</style>\n",
       "<table border=\"1\" class=\"dataframe\">\n",
       "  <thead>\n",
       "    <tr style=\"text-align: right;\">\n",
       "      <th></th>\n",
       "      <th>title</th>\n",
       "      <th>author</th>\n",
       "      <th>image</th>\n",
       "      <th>desc</th>\n",
       "      <th>download_link</th>\n",
       "      <th>pages</th>\n",
       "      <th>publisher</th>\n",
       "      <th>year</th>\n",
       "      <th>language</th>\n",
       "      <th>file</th>\n",
       "    </tr>\n",
       "  </thead>\n",
       "  <tbody>\n",
       "    <tr>\n",
       "      <th>0</th>\n",
       "      <td>Soil Mechanics of Earthworks, Foundations and ...</td>\n",
       "      <td>NaN</td>\n",
       "      <td>https://covers.zlibcdn2.com/covers100/books/01...</td>\n",
       "      <td>\\n                    This is the third volume...</td>\n",
       "      <td>https://1lib.in/dl/2279969/9cd462</td>\n",
       "      <td>354.0</td>\n",
       "      <td>Elsevier Science</td>\n",
       "      <td>1988.0</td>\n",
       "      <td>english</td>\n",
       "      <td>PDF, 9.35 MB</td>\n",
       "    </tr>\n",
       "    <tr>\n",
       "      <th>1</th>\n",
       "      <td>Foundation Engineering: Design and Constructio...</td>\n",
       "      <td>B.B.K. Huat</td>\n",
       "      <td>https://covers.zlibcdn2.com/covers100/books/1b...</td>\n",
       "      <td>\\n                    Residual soils are found...</td>\n",
       "      <td>https://1lib.in/dl/1247565/f9e712</td>\n",
       "      <td>256.0</td>\n",
       "      <td>Taylor &amp; Francis</td>\n",
       "      <td>2006.0</td>\n",
       "      <td>english</td>\n",
       "      <td>PDF, 86.52 MB</td>\n",
       "    </tr>\n",
       "    <tr>\n",
       "      <th>2</th>\n",
       "      <td>Practical Problems in Soil Mechanics and Found...</td>\n",
       "      <td>Sheng Y. Peng</td>\n",
       "      <td>https://covers.zlibcdn2.com/covers100/books/7d...</td>\n",
       "      <td>NaN</td>\n",
       "      <td>https://1lib.in/dl/2800423/3ccf77</td>\n",
       "      <td>346.0</td>\n",
       "      <td>Elsevier Science Ltd</td>\n",
       "      <td>1985.0</td>\n",
       "      <td>english</td>\n",
       "      <td>PDF, 9.86 MB</td>\n",
       "    </tr>\n",
       "    <tr>\n",
       "      <th>3</th>\n",
       "      <td>Underwater Embankments on Soft Soil A Case His...</td>\n",
       "      <td>William F. van Impe</td>\n",
       "      <td>https://covers.zlibcdn2.com/covers100/books/2b...</td>\n",
       "      <td>NaN</td>\n",
       "      <td>https://1lib.in/dl/981008/e79e1d</td>\n",
       "      <td>154.0</td>\n",
       "      <td>NaN</td>\n",
       "      <td>2007.0</td>\n",
       "      <td>english</td>\n",
       "      <td>PDF, 3.35 MB</td>\n",
       "    </tr>\n",
       "    <tr>\n",
       "      <th>4</th>\n",
       "      <td>Eco- and Ground Bio-Engineering: The Use of Ve...</td>\n",
       "      <td>Alexia Stokes</td>\n",
       "      <td>https://covers.zlibcdn2.com/covers100/books/d2...</td>\n",
       "      <td>\\n                    This volume brings toget...</td>\n",
       "      <td>https://1lib.in/dl/901430/e57c96</td>\n",
       "      <td>420.0</td>\n",
       "      <td>NaN</td>\n",
       "      <td>2007.0</td>\n",
       "      <td>english</td>\n",
       "      <td>PDF, 10.67 MB</td>\n",
       "    </tr>\n",
       "  </tbody>\n",
       "</table>\n",
       "</div>"
      ],
      "text/plain": [
       "                                               title               author  \\\n",
       "0  Soil Mechanics of Earthworks, Foundations and ...                  NaN   \n",
       "1  Foundation Engineering: Design and Constructio...          B.B.K. Huat   \n",
       "2  Practical Problems in Soil Mechanics and Found...        Sheng Y. Peng   \n",
       "3  Underwater Embankments on Soft Soil A Case His...  William F. van Impe   \n",
       "4  Eco- and Ground Bio-Engineering: The Use of Ve...        Alexia Stokes   \n",
       "\n",
       "                                               image  \\\n",
       "0  https://covers.zlibcdn2.com/covers100/books/01...   \n",
       "1  https://covers.zlibcdn2.com/covers100/books/1b...   \n",
       "2  https://covers.zlibcdn2.com/covers100/books/7d...   \n",
       "3  https://covers.zlibcdn2.com/covers100/books/2b...   \n",
       "4  https://covers.zlibcdn2.com/covers100/books/d2...   \n",
       "\n",
       "                                                desc  \\\n",
       "0  \\n                    This is the third volume...   \n",
       "1  \\n                    Residual soils are found...   \n",
       "2                                                NaN   \n",
       "3                                                NaN   \n",
       "4  \\n                    This volume brings toget...   \n",
       "\n",
       "                       download_link  pages             publisher    year  \\\n",
       "0  https://1lib.in/dl/2279969/9cd462  354.0      Elsevier Science  1988.0   \n",
       "1  https://1lib.in/dl/1247565/f9e712  256.0      Taylor & Francis  2006.0   \n",
       "2  https://1lib.in/dl/2800423/3ccf77  346.0  Elsevier Science Ltd  1985.0   \n",
       "3   https://1lib.in/dl/981008/e79e1d  154.0                   NaN  2007.0   \n",
       "4   https://1lib.in/dl/901430/e57c96  420.0                   NaN  2007.0   \n",
       "\n",
       "  language           file  \n",
       "0  english   PDF, 9.35 MB  \n",
       "1  english  PDF, 86.52 MB  \n",
       "2  english   PDF, 9.86 MB  \n",
       "3  english   PDF, 3.35 MB  \n",
       "4  english  PDF, 10.67 MB  "
      ]
     },
     "execution_count": 11,
     "metadata": {},
     "output_type": "execute_result"
    }
   ],
   "source": [
    "data.head()"
   ]
  },
  {
   "cell_type": "markdown",
   "metadata": {
    "id": "H8rQwfZHv97k"
   },
   "source": [
    "# \"Внедрение значений\" - импьютация (imputation)"
   ]
  },
  {
   "cell_type": "code",
   "execution_count": 12,
   "metadata": {
    "colab": {
     "base_uri": "https://localhost:8080/"
    },
    "id": "mKKzgvBpwAAt",
    "outputId": "d6ff2850-4418-43a6-8958-fdf0afdb709e"
   },
   "outputs": [
    {
     "name": "stdout",
     "output_type": "stream",
     "text": [
      "Колонка pages. Тип данных float64. Количество пустых значений 387, 16.29%.\n",
      "Колонка year. Тип данных float64. Количество пустых значений 151, 6.36%.\n"
     ]
    }
   ],
   "source": [
    "# Выберем числовые колонки с пропущенными значениями\n",
    "# Цикл по колонкам датасета\n",
    "num_cols = []\n",
    "for col in data.columns:\n",
    "    # Количество пустых значений\n",
    "    temp_null_count = data[data[col].isnull()].shape[0]\n",
    "    dt = str(data[col].dtype)\n",
    "    if temp_null_count>0 and (dt=='float64' or dt=='int64'):\n",
    "        num_cols.append(col)\n",
    "        temp_perc = round((temp_null_count / total_count) * 100.0, 2)\n",
    "        print('Колонка {}. Тип данных {}. Количество пустых значений {}, {}%.'.format(col, dt, temp_null_count, temp_perc))"
   ]
  },
  {
   "cell_type": "code",
   "execution_count": 13,
   "metadata": {
    "colab": {
     "base_uri": "https://localhost:8080/",
     "height": 423
    },
    "id": "N49JAZxkxQ8u",
    "outputId": "a492a855-c5b1-4c58-be09-a1eb6717b7fb"
   },
   "outputs": [
    {
     "data": {
      "text/html": [
       "<div>\n",
       "<style scoped>\n",
       "    .dataframe tbody tr th:only-of-type {\n",
       "        vertical-align: middle;\n",
       "    }\n",
       "\n",
       "    .dataframe tbody tr th {\n",
       "        vertical-align: top;\n",
       "    }\n",
       "\n",
       "    .dataframe thead th {\n",
       "        text-align: right;\n",
       "    }\n",
       "</style>\n",
       "<table border=\"1\" class=\"dataframe\">\n",
       "  <thead>\n",
       "    <tr style=\"text-align: right;\">\n",
       "      <th></th>\n",
       "      <th>pages</th>\n",
       "      <th>year</th>\n",
       "    </tr>\n",
       "  </thead>\n",
       "  <tbody>\n",
       "    <tr>\n",
       "      <th>0</th>\n",
       "      <td>354.0</td>\n",
       "      <td>1988.0</td>\n",
       "    </tr>\n",
       "    <tr>\n",
       "      <th>1</th>\n",
       "      <td>256.0</td>\n",
       "      <td>2006.0</td>\n",
       "    </tr>\n",
       "    <tr>\n",
       "      <th>2</th>\n",
       "      <td>346.0</td>\n",
       "      <td>1985.0</td>\n",
       "    </tr>\n",
       "    <tr>\n",
       "      <th>3</th>\n",
       "      <td>154.0</td>\n",
       "      <td>2007.0</td>\n",
       "    </tr>\n",
       "    <tr>\n",
       "      <th>4</th>\n",
       "      <td>420.0</td>\n",
       "      <td>2007.0</td>\n",
       "    </tr>\n",
       "    <tr>\n",
       "      <th>...</th>\n",
       "      <td>...</td>\n",
       "      <td>...</td>\n",
       "    </tr>\n",
       "    <tr>\n",
       "      <th>2370</th>\n",
       "      <td>542.0</td>\n",
       "      <td>2009.0</td>\n",
       "    </tr>\n",
       "    <tr>\n",
       "      <th>2371</th>\n",
       "      <td>284.0</td>\n",
       "      <td>2013.0</td>\n",
       "    </tr>\n",
       "    <tr>\n",
       "      <th>2372</th>\n",
       "      <td>103.0</td>\n",
       "      <td>1999.0</td>\n",
       "    </tr>\n",
       "    <tr>\n",
       "      <th>2373</th>\n",
       "      <td>214.0</td>\n",
       "      <td>2007.0</td>\n",
       "    </tr>\n",
       "    <tr>\n",
       "      <th>2374</th>\n",
       "      <td>213.0</td>\n",
       "      <td>2017.0</td>\n",
       "    </tr>\n",
       "  </tbody>\n",
       "</table>\n",
       "<p>2375 rows × 2 columns</p>\n",
       "</div>"
      ],
      "text/plain": [
       "      pages    year\n",
       "0     354.0  1988.0\n",
       "1     256.0  2006.0\n",
       "2     346.0  1985.0\n",
       "3     154.0  2007.0\n",
       "4     420.0  2007.0\n",
       "...     ...     ...\n",
       "2370  542.0  2009.0\n",
       "2371  284.0  2013.0\n",
       "2372  103.0  1999.0\n",
       "2373  214.0  2007.0\n",
       "2374  213.0  2017.0\n",
       "\n",
       "[2375 rows x 2 columns]"
      ]
     },
     "execution_count": 13,
     "metadata": {},
     "output_type": "execute_result"
    }
   ],
   "source": [
    "# Фильтр по колонкам с пропущенными значениями\n",
    "data_num = data[num_cols]\n",
    "data_num"
   ]
  },
  {
   "cell_type": "code",
   "execution_count": 14,
   "metadata": {
    "colab": {
     "base_uri": "https://localhost:8080/",
     "height": 899
    },
    "id": "Vyw2N7ptxs_l",
    "outputId": "61ecfa28-36d1-48f6-f9c7-598d211f3ff1"
   },
   "outputs": [
    {
     "data": {
      "image/png": "[encoded data removed]",
      "text/plain": [
       "<Figure size 640x480 with 1 Axes>"
      ]
     },
     "metadata": {},
     "output_type": "display_data"
    },
    {
     "data": {
      "image/png": "[encoded data removed]",
      "text/plain": [
       "<Figure size 640x480 with 1 Axes>"
      ]
     },
     "metadata": {},
     "output_type": "display_data"
    }
   ],
   "source": [
    "# Гистограмма по признакам\n",
    "for col in data_num:\n",
    "    plt.hist(data[col], 50)\n",
    "    plt.xlabel(col)\n",
    "    plt.show()"
   ]
  },
  {
   "cell_type": "code",
   "execution_count": 15,
   "metadata": {
    "colab": {
     "base_uri": "https://localhost:8080/",
     "height": 206
    },
    "id": "4vqYRRs9x16j",
    "outputId": "708e3c69-132b-4fce-9856-0882afcb4aea"
   },
   "outputs": [
    {
     "data": {
      "text/html": [
       "<div>\n",
       "<style scoped>\n",
       "    .dataframe tbody tr th:only-of-type {\n",
       "        vertical-align: middle;\n",
       "    }\n",
       "\n",
       "    .dataframe tbody tr th {\n",
       "        vertical-align: top;\n",
       "    }\n",
       "\n",
       "    .dataframe thead th {\n",
       "        text-align: right;\n",
       "    }\n",
       "</style>\n",
       "<table border=\"1\" class=\"dataframe\">\n",
       "  <thead>\n",
       "    <tr style=\"text-align: right;\">\n",
       "      <th></th>\n",
       "      <th>pages</th>\n",
       "    </tr>\n",
       "  </thead>\n",
       "  <tbody>\n",
       "    <tr>\n",
       "      <th>0</th>\n",
       "      <td>354.0</td>\n",
       "    </tr>\n",
       "    <tr>\n",
       "      <th>1</th>\n",
       "      <td>256.0</td>\n",
       "    </tr>\n",
       "    <tr>\n",
       "      <th>2</th>\n",
       "      <td>346.0</td>\n",
       "    </tr>\n",
       "    <tr>\n",
       "      <th>3</th>\n",
       "      <td>154.0</td>\n",
       "    </tr>\n",
       "    <tr>\n",
       "      <th>4</th>\n",
       "      <td>420.0</td>\n",
       "    </tr>\n",
       "  </tbody>\n",
       "</table>\n",
       "</div>"
      ],
      "text/plain": [
       "   pages\n",
       "0  354.0\n",
       "1  256.0\n",
       "2  346.0\n",
       "3  154.0\n",
       "4  420.0"
      ]
     },
     "execution_count": 15,
     "metadata": {},
     "output_type": "execute_result"
    }
   ],
   "source": [
    "data_num_pages = data_num[['pages']]\n",
    "data_num_pages.head()"
   ]
  },
  {
   "cell_type": "code",
   "execution_count": 16,
   "metadata": {
    "id": "dqI03EVOygY9"
   },
   "outputs": [],
   "source": [
    "from sklearn.impute import SimpleImputer\n",
    "from sklearn.impute import MissingIndicator"
   ]
  },
  {
   "cell_type": "code",
   "execution_count": 17,
   "metadata": {
    "colab": {
     "base_uri": "https://localhost:8080/"
    },
    "id": "prektIvH1TPW",
    "outputId": "cbee65cd-45f9-4a05-8a67-bc1df965e724"
   },
   "outputs": [
    {
     "data": {
      "text/plain": [
       "array([[False],\n",
       "       [False],\n",
       "       [False],\n",
       "       ...,\n",
       "       [False],\n",
       "       [False],\n",
       "       [False]])"
      ]
     },
     "execution_count": 17,
     "metadata": {},
     "output_type": "execute_result"
    }
   ],
   "source": [
    "# Фильтр для проверки заполнения пустых значений\n",
    "indicator = MissingIndicator()\n",
    "mask_missing_values_only = indicator.fit_transform(data_num_pages)\n",
    "mask_missing_values_only"
   ]
  },
  {
   "cell_type": "code",
   "execution_count": 18,
   "metadata": {
    "id": "GSiwEc_i1YK2"
   },
   "outputs": [],
   "source": [
    "strategies=['mean', 'median', 'most_frequent']"
   ]
  },
  {
   "cell_type": "code",
   "execution_count": 19,
   "metadata": {
    "id": "sHH5m-Ay1b9L"
   },
   "outputs": [],
   "source": [
    "def test_num_impute(strategy_param):\n",
    "    imp_num = SimpleImputer(strategy=strategy_param)\n",
    "    data_num_imp = imp_num.fit_transform(data_num_pages)\n",
    "    return data_num_imp[mask_missing_values_only]"
   ]
  },
  {
   "cell_type": "code",
   "execution_count": 20,
   "metadata": {
    "colab": {
     "base_uri": "https://localhost:8080/"
    },
    "id": "4LSLz2pL1h3k",
    "outputId": "25563c01-fb6f-4f46-e6d8-ee3da9823500"
   },
   "outputs": [
    {
     "data": {
      "text/plain": [
       "('mean',\n",
       " array([551.95724346, 551.95724346, 551.95724346, 551.95724346,\n",
       "        551.95724346, 551.95724346, 551.95724346, 551.95724346,\n",
       "        551.95724346, 551.95724346, 551.95724346, 551.95724346,\n",
       "        551.95724346, 551.95724346, 551.95724346, 551.95724346,\n",
       "        551.95724346, 551.95724346, 551.95724346, 551.95724346,\n",
       "        551.95724346, 551.95724346, 551.95724346, 551.95724346,\n",
       "        551.95724346, 551.95724346, 551.95724346, 551.95724346,\n",
       "        551.95724346, 551.95724346, 551.95724346, 551.95724346,\n",
       "        551.95724346, 551.95724346, 551.95724346, 551.95724346,\n",
       "        551.95724346, 551.95724346, 551.95724346, 551.95724346,\n",
       "        551.95724346, 551.95724346, 551.95724346, 551.95724346,\n",
       "        551.95724346, 551.95724346, 551.95724346, 551.95724346,\n",
       "        551.95724346, 551.95724346, 551.95724346, 551.95724346,\n",
       "        551.95724346, 551.95724346, 551.95724346, 551.95724346,\n",
       "        551.95724346, 551.95724346, 551.95724346, 551.95724346,\n",
       "        551.95724346, 551.95724346, 551.95724346, 551.95724346,\n",
       "        551.95724346, 551.95724346, 551.95724346, 551.95724346,\n",
       "        551.95724346, 551.95724346, 551.95724346, 551.95724346,\n",
       "        551.95724346, 551.95724346, 551.95724346, 551.95724346,\n",
       "        551.95724346, 551.95724346, 551.95724346, 551.95724346,\n",
       "        551.95724346, 551.95724346, 551.95724346, 551.95724346,\n",
       "        551.95724346, 551.95724346, 551.95724346, 551.95724346,\n",
       "        551.95724346, 551.95724346, 551.95724346, 551.95724346,\n",
       "        551.95724346, 551.95724346, 551.95724346, 551.95724346,\n",
       "        551.95724346, 551.95724346, 551.95724346, 551.95724346,\n",
       "        551.95724346, 551.95724346, 551.95724346, 551.95724346,\n",
       "        551.95724346, 551.95724346, 551.95724346, 551.95724346,\n",
       "        551.95724346, 551.95724346, 551.95724346, 551.95724346,\n",
       "        551.95724346, 551.95724346, 551.95724346, 551.95724346,\n",
       "        551.95724346, 551.95724346, 551.95724346, 551.95724346,\n",
       "        551.95724346, 551.95724346, 551.95724346, 551.95724346,\n",
       "        551.95724346, 551.95724346, 551.95724346, 551.95724346,\n",
       "        551.95724346, 551.95724346, 551.95724346, 551.95724346,\n",
       "        551.95724346, 551.95724346, 551.95724346, 551.95724346,\n",
       "        551.95724346, 551.95724346, 551.95724346, 551.95724346,\n",
       "        551.95724346, 551.95724346, 551.95724346, 551.95724346,\n",
       "        551.95724346, 551.95724346, 551.95724346, 551.95724346,\n",
       "        551.95724346, 551.95724346, 551.95724346, 551.95724346,\n",
       "        551.95724346, 551.95724346, 551.95724346, 551.95724346,\n",
       "        551.95724346, 551.95724346, 551.95724346, 551.95724346,\n",
       "        551.95724346, 551.95724346, 551.95724346, 551.95724346,\n",
       "        551.95724346, 551.95724346, 551.95724346, 551.95724346,\n",
       "        551.95724346, 551.95724346, 551.95724346, 551.95724346,\n",
       "        551.95724346, 551.95724346, 551.95724346, 551.95724346,\n",
       "        551.95724346, 551.95724346, 551.95724346, 551.95724346,\n",
       "        551.95724346, 551.95724346, 551.95724346, 551.95724346,\n",
       "        551.95724346, 551.95724346, 551.95724346, 551.95724346,\n",
       "        551.95724346, 551.95724346, 551.95724346, 551.95724346,\n",
       "        551.95724346, 551.95724346, 551.95724346, 551.95724346,\n",
       "        551.95724346, 551.95724346, 551.95724346, 551.95724346,\n",
       "        551.95724346, 551.95724346, 551.95724346, 551.95724346,\n",
       "        551.95724346, 551.95724346, 551.95724346, 551.95724346,\n",
       "        551.95724346, 551.95724346, 551.95724346, 551.95724346,\n",
       "        551.95724346, 551.95724346, 551.95724346, 551.95724346,\n",
       "        551.95724346, 551.95724346, 551.95724346, 551.95724346,\n",
       "        551.95724346, 551.95724346, 551.95724346, 551.95724346,\n",
       "        551.95724346, 551.95724346, 551.95724346, 551.95724346,\n",
       "        551.95724346, 551.95724346, 551.95724346, 551.95724346,\n",
       "        551.95724346, 551.95724346, 551.95724346, 551.95724346,\n",
       "        551.95724346, 551.95724346, 551.95724346, 551.95724346,\n",
       "        551.95724346, 551.95724346, 551.95724346, 551.95724346,\n",
       "        551.95724346, 551.95724346, 551.95724346, 551.95724346,\n",
       "        551.95724346, 551.95724346, 551.95724346, 551.95724346,\n",
       "        551.95724346, 551.95724346, 551.95724346, 551.95724346,\n",
       "        551.95724346, 551.95724346, 551.95724346, 551.95724346,\n",
       "        551.95724346, 551.95724346, 551.95724346, 551.95724346,\n",
       "        551.95724346, 551.95724346, 551.95724346, 551.95724346,\n",
       "        551.95724346, 551.95724346, 551.95724346, 551.95724346,\n",
       "        551.95724346, 551.95724346, 551.95724346, 551.95724346,\n",
       "        551.95724346, 551.95724346, 551.95724346, 551.95724346,\n",
       "        551.95724346, 551.95724346, 551.95724346, 551.95724346,\n",
       "        551.95724346, 551.95724346, 551.95724346, 551.95724346,\n",
       "        551.95724346, 551.95724346, 551.95724346, 551.95724346,\n",
       "        551.95724346, 551.95724346, 551.95724346, 551.95724346,\n",
       "        551.95724346, 551.95724346, 551.95724346, 551.95724346,\n",
       "        551.95724346, 551.95724346, 551.95724346, 551.95724346,\n",
       "        551.95724346, 551.95724346, 551.95724346, 551.95724346,\n",
       "        551.95724346, 551.95724346, 551.95724346, 551.95724346,\n",
       "        551.95724346, 551.95724346, 551.95724346, 551.95724346,\n",
       "        551.95724346, 551.95724346, 551.95724346, 551.95724346,\n",
       "        551.95724346, 551.95724346, 551.95724346, 551.95724346,\n",
       "        551.95724346, 551.95724346, 551.95724346, 551.95724346,\n",
       "        551.95724346, 551.95724346, 551.95724346, 551.95724346,\n",
       "        551.95724346, 551.95724346, 551.95724346, 551.95724346,\n",
       "        551.95724346, 551.95724346, 551.95724346, 551.95724346,\n",
       "        551.95724346, 551.95724346, 551.95724346, 551.95724346,\n",
       "        551.95724346, 551.95724346, 551.95724346, 551.95724346,\n",
       "        551.95724346, 551.95724346, 551.95724346, 551.95724346,\n",
       "        551.95724346, 551.95724346, 551.95724346, 551.95724346,\n",
       "        551.95724346, 551.95724346, 551.95724346, 551.95724346,\n",
       "        551.95724346, 551.95724346, 551.95724346, 551.95724346,\n",
       "        551.95724346, 551.95724346, 551.95724346, 551.95724346,\n",
       "        551.95724346, 551.95724346, 551.95724346, 551.95724346,\n",
       "        551.95724346, 551.95724346, 551.95724346, 551.95724346,\n",
       "        551.95724346, 551.95724346, 551.95724346, 551.95724346,\n",
       "        551.95724346, 551.95724346, 551.95724346, 551.95724346,\n",
       "        551.95724346, 551.95724346, 551.95724346]))"
      ]
     },
     "execution_count": 20,
     "metadata": {},
     "output_type": "execute_result"
    }
   ],
   "source": [
    "strategies[0], test_num_impute(strategies[0])"
   ]
  },
  {
   "cell_type": "code",
   "execution_count": 21,
   "metadata": {
    "colab": {
     "base_uri": "https://localhost:8080/"
    },
    "id": "De5rmmfW1t5-",
    "outputId": "e0a939cd-3a32-4f6a-ef3e-9d898a101677"
   },
   "outputs": [
    {
     "data": {
      "text/plain": [
       "('median',\n",
       " array([464., 464., 464., 464., 464., 464., 464., 464., 464., 464., 464.,\n",
       "        464., 464., 464., 464., 464., 464., 464., 464., 464., 464., 464.,\n",
       "        464., 464., 464., 464., 464., 464., 464., 464., 464., 464., 464.,\n",
       "        464., 464., 464., 464., 464., 464., 464., 464., 464., 464., 464.,\n",
       "        464., 464., 464., 464., 464., 464., 464., 464., 464., 464., 464.,\n",
       "        464., 464., 464., 464., 464., 464., 464., 464., 464., 464., 464.,\n",
       "        464., 464., 464., 464., 464., 464., 464., 464., 464., 464., 464.,\n",
       "        464., 464., 464., 464., 464., 464., 464., 464., 464., 464., 464.,\n",
       "        464., 464., 464., 464., 464., 464., 464., 464., 464., 464., 464.,\n",
       "        464., 464., 464., 464., 464., 464., 464., 464., 464., 464., 464.,\n",
       "        464., 464., 464., 464., 464., 464., 464., 464., 464., 464., 464.,\n",
       "        464., 464., 464., 464., 464., 464., 464., 464., 464., 464., 464.,\n",
       "        464., 464., 464., 464., 464., 464., 464., 464., 464., 464., 464.,\n",
       "        464., 464., 464., 464., 464., 464., 464., 464., 464., 464., 464.,\n",
       "        464., 464., 464., 464., 464., 464., 464., 464., 464., 464., 464.,\n",
       "        464., 464., 464., 464., 464., 464., 464., 464., 464., 464., 464.,\n",
       "        464., 464., 464., 464., 464., 464., 464., 464., 464., 464., 464.,\n",
       "        464., 464., 464., 464., 464., 464., 464., 464., 464., 464., 464.,\n",
       "        464., 464., 464., 464., 464., 464., 464., 464., 464., 464., 464.,\n",
       "        464., 464., 464., 464., 464., 464., 464., 464., 464., 464., 464.,\n",
       "        464., 464., 464., 464., 464., 464., 464., 464., 464., 464., 464.,\n",
       "        464., 464., 464., 464., 464., 464., 464., 464., 464., 464., 464.,\n",
       "        464., 464., 464., 464., 464., 464., 464., 464., 464., 464., 464.,\n",
       "        464., 464., 464., 464., 464., 464., 464., 464., 464., 464., 464.,\n",
       "        464., 464., 464., 464., 464., 464., 464., 464., 464., 464., 464.,\n",
       "        464., 464., 464., 464., 464., 464., 464., 464., 464., 464., 464.,\n",
       "        464., 464., 464., 464., 464., 464., 464., 464., 464., 464., 464.,\n",
       "        464., 464., 464., 464., 464., 464., 464., 464., 464., 464., 464.,\n",
       "        464., 464., 464., 464., 464., 464., 464., 464., 464., 464., 464.,\n",
       "        464., 464., 464., 464., 464., 464., 464., 464., 464., 464., 464.,\n",
       "        464., 464., 464., 464., 464., 464., 464., 464., 464., 464., 464.,\n",
       "        464., 464., 464., 464., 464., 464., 464., 464., 464., 464., 464.,\n",
       "        464., 464., 464., 464., 464., 464., 464., 464., 464., 464., 464.,\n",
       "        464., 464., 464., 464., 464., 464., 464., 464., 464., 464., 464.,\n",
       "        464., 464., 464., 464., 464., 464., 464., 464., 464., 464., 464.,\n",
       "        464., 464.]))"
      ]
     },
     "execution_count": 21,
     "metadata": {},
     "output_type": "execute_result"
    }
   ],
   "source": [
    "strategies[1], test_num_impute(strategies[1])"
   ]
  },
  {
   "cell_type": "code",
   "execution_count": 22,
   "metadata": {
    "colab": {
     "base_uri": "https://localhost:8080/"
    },
    "id": "UULuCAwc1wI4",
    "outputId": "ef8d1636-acd4-4b03-e16e-c3820b68e4ec"
   },
   "outputs": [
    {
     "data": {
      "text/plain": [
       "('most_frequent',\n",
       " array([280., 280., 280., 280., 280., 280., 280., 280., 280., 280., 280.,\n",
       "        280., 280., 280., 280., 280., 280., 280., 280., 280., 280., 280.,\n",
       "        280., 280., 280., 280., 280., 280., 280., 280., 280., 280., 280.,\n",
       "        280., 280., 280., 280., 280., 280., 280., 280., 280., 280., 280.,\n",
       "        280., 280., 280., 280., 280., 280., 280., 280., 280., 280., 280.,\n",
       "        280., 280., 280., 280., 280., 280., 280., 280., 280., 280., 280.,\n",
       "        280., 280., 280., 280., 280., 280., 280., 280., 280., 280., 280.,\n",
       "        280., 280., 280., 280., 280., 280., 280., 280., 280., 280., 280.,\n",
       "        280., 280., 280., 280., 280., 280., 280., 280., 280., 280., 280.,\n",
       "        280., 280., 280., 280., 280., 280., 280., 280., 280., 280., 280.,\n",
       "        280., 280., 280., 280., 280., 280., 280., 280., 280., 280., 280.,\n",
       "        280., 280., 280., 280., 280., 280., 280., 280., 280., 280., 280.,\n",
       "        280., 280., 280., 280., 280., 280., 280., 280., 280., 280., 280.,\n",
       "        280., 280., 280., 280., 280., 280., 280., 280., 280., 280., 280.,\n",
       "        280., 280., 280., 280., 280., 280., 280., 280., 280., 280., 280.,\n",
       "        280., 280., 280., 280., 280., 280., 280., 280., 280., 280., 280.,\n",
       "        280., 280., 280., 280., 280., 280., 280., 280., 280., 280., 280.,\n",
       "        280., 280., 280., 280., 280., 280., 280., 280., 280., 280., 280.,\n",
       "        280., 280., 280., 280., 280., 280., 280., 280., 280., 280., 280.,\n",
       "        280., 280., 280., 280., 280., 280., 280., 280., 280., 280., 280.,\n",
       "        280., 280., 280., 280., 280., 280., 280., 280., 280., 280., 280.,\n",
       "        280., 280., 280., 280., 280., 280., 280., 280., 280., 280., 280.,\n",
       "        280., 280., 280., 280., 280., 280., 280., 280., 280., 280., 280.,\n",
       "        280., 280., 280., 280., 280., 280., 280., 280., 280., 280., 280.,\n",
       "        280., 280., 280., 280., 280., 280., 280., 280., 280., 280., 280.,\n",
       "        280., 280., 280., 280., 280., 280., 280., 280., 280., 280., 280.,\n",
       "        280., 280., 280., 280., 280., 280., 280., 280., 280., 280., 280.,\n",
       "        280., 280., 280., 280., 280., 280., 280., 280., 280., 280., 280.,\n",
       "        280., 280., 280., 280., 280., 280., 280., 280., 280., 280., 280.,\n",
       "        280., 280., 280., 280., 280., 280., 280., 280., 280., 280., 280.,\n",
       "        280., 280., 280., 280., 280., 280., 280., 280., 280., 280., 280.,\n",
       "        280., 280., 280., 280., 280., 280., 280., 280., 280., 280., 280.,\n",
       "        280., 280., 280., 280., 280., 280., 280., 280., 280., 280., 280.,\n",
       "        280., 280., 280., 280., 280., 280., 280., 280., 280., 280., 280.,\n",
       "        280., 280., 280., 280., 280., 280., 280., 280., 280., 280., 280.,\n",
       "        280., 280.]))"
      ]
     },
     "execution_count": 22,
     "metadata": {},
     "output_type": "execute_result"
    }
   ],
   "source": [
    "strategies[2], test_num_impute(strategies[2])"
   ]
  },
  {
   "cell_type": "code",
   "execution_count": 23,
   "metadata": {
    "id": "T7ig4I6d12TS"
   },
   "outputs": [],
   "source": [
    "# Более сложная функция, которая позволяет задавать колонку и вид импьютации\n",
    "def test_num_impute_col(dataset, column, strategy_param):\n",
    "    temp_data = dataset[[column]]\n",
    "\n",
    "    indicator = MissingIndicator()\n",
    "    mask_missing_values_only = indicator.fit_transform(temp_data)\n",
    "\n",
    "    imp_num = SimpleImputer(strategy=strategy_param)\n",
    "    data_num_imp = imp_num.fit_transform(temp_data)\n",
    "\n",
    "    filled_data = data_num_imp[mask_missing_values_only]\n",
    "\n",
    "    return column, strategy_param, filled_data.size, filled_data[0], filled_data[filled_data.size-1]"
   ]
  },
  {
   "cell_type": "code",
   "execution_count": 24,
   "metadata": {
    "colab": {
     "base_uri": "https://localhost:8080/",
     "height": 300
    },
    "id": "0P4CZk9-qCNS",
    "outputId": "0228f78e-480b-4e54-99eb-e93370598cd7"
   },
   "outputs": [
    {
     "data": {
      "text/html": [
       "<div>\n",
       "<style scoped>\n",
       "    .dataframe tbody tr th:only-of-type {\n",
       "        vertical-align: middle;\n",
       "    }\n",
       "\n",
       "    .dataframe tbody tr th {\n",
       "        vertical-align: top;\n",
       "    }\n",
       "\n",
       "    .dataframe thead th {\n",
       "        text-align: right;\n",
       "    }\n",
       "</style>\n",
       "<table border=\"1\" class=\"dataframe\">\n",
       "  <thead>\n",
       "    <tr style=\"text-align: right;\">\n",
       "      <th></th>\n",
       "      <th>pages</th>\n",
       "    </tr>\n",
       "  </thead>\n",
       "  <tbody>\n",
       "    <tr>\n",
       "      <th>count</th>\n",
       "      <td>1988.000000</td>\n",
       "    </tr>\n",
       "    <tr>\n",
       "      <th>mean</th>\n",
       "      <td>551.957243</td>\n",
       "    </tr>\n",
       "    <tr>\n",
       "      <th>std</th>\n",
       "      <td>415.985931</td>\n",
       "    </tr>\n",
       "    <tr>\n",
       "      <th>min</th>\n",
       "      <td>1.000000</td>\n",
       "    </tr>\n",
       "    <tr>\n",
       "      <th>25%</th>\n",
       "      <td>306.000000</td>\n",
       "    </tr>\n",
       "    <tr>\n",
       "      <th>50%</th>\n",
       "      <td>464.000000</td>\n",
       "    </tr>\n",
       "    <tr>\n",
       "      <th>75%</th>\n",
       "      <td>728.000000</td>\n",
       "    </tr>\n",
       "    <tr>\n",
       "      <th>max</th>\n",
       "      <td>10388.000000</td>\n",
       "    </tr>\n",
       "  </tbody>\n",
       "</table>\n",
       "</div>"
      ],
      "text/plain": [
       "              pages\n",
       "count   1988.000000\n",
       "mean     551.957243\n",
       "std      415.985931\n",
       "min        1.000000\n",
       "25%      306.000000\n",
       "50%      464.000000\n",
       "75%      728.000000\n",
       "max    10388.000000"
      ]
     },
     "execution_count": 24,
     "metadata": {},
     "output_type": "execute_result"
    }
   ],
   "source": [
    "data[['pages']].describe()"
   ]
  },
  {
   "cell_type": "code",
   "execution_count": 25,
   "metadata": {
    "colab": {
     "base_uri": "https://localhost:8080/"
    },
    "id": "UgezfCUYqCYa",
    "outputId": "c06f79dd-ddba-47c8-d4ed-786e5298d39e"
   },
   "outputs": [
    {
     "data": {
      "text/plain": [
       "('pages',\n",
       " 'mean',\n",
       " 387,\n",
       " np.float64(551.9572434607646),\n",
       " np.float64(551.9572434607646))"
      ]
     },
     "execution_count": 25,
     "metadata": {},
     "output_type": "execute_result"
    }
   ],
   "source": [
    "test_num_impute_col(data, 'pages', strategies[0])"
   ]
  },
  {
   "cell_type": "code",
   "execution_count": 26,
   "metadata": {
    "colab": {
     "base_uri": "https://localhost:8080/"
    },
    "id": "r1O7H64Cq4z7",
    "outputId": "1a7f3248-0e3a-449a-d5d0-d29627d7c956"
   },
   "outputs": [
    {
     "data": {
      "text/plain": [
       "('pages', 'median', 387, np.float64(464.0), np.float64(464.0))"
      ]
     },
     "execution_count": 26,
     "metadata": {},
     "output_type": "execute_result"
    }
   ],
   "source": [
    "test_num_impute_col(data, 'pages', strategies[1])"
   ]
  },
  {
   "cell_type": "code",
   "execution_count": 27,
   "metadata": {
    "colab": {
     "base_uri": "https://localhost:8080/"
    },
    "id": "FVuUshTGq9yT",
    "outputId": "8444b4b4-60d1-4162-bd2a-2ce1b22b7c0b"
   },
   "outputs": [
    {
     "data": {
      "text/plain": [
       "('pages', 'most_frequent', 387, np.float64(280.0), np.float64(280.0))"
      ]
     },
     "execution_count": 27,
     "metadata": {},
     "output_type": "execute_result"
    }
   ],
   "source": [
    "test_num_impute_col(data, 'pages', strategies[2])"
   ]
  },
  {
   "cell_type": "markdown",
   "metadata": {
    "id": "alkHZh36rCXQ"
   },
   "source": [
    "Обработка пропусков в категориальных данных"
   ]
  },
  {
   "cell_type": "code",
   "execution_count": 28,
   "metadata": {
    "colab": {
     "base_uri": "https://localhost:8080/"
    },
    "id": "ki3_AfdUrGoL",
    "outputId": "8634058b-66fe-4a90-c122-4128b4420b35"
   },
   "outputs": [
    {
     "name": "stdout",
     "output_type": "stream",
     "text": [
      "Колонка author. Тип данных object. Количество пустых значений 22, 0.93%.\n",
      "Колонка image. Тип данных object. Количество пустых значений 3, 0.13%.\n",
      "Колонка desc. Тип данных object. Количество пустых значений 624, 26.27%.\n",
      "Колонка download_link. Тип данных object. Количество пустых значений 79, 3.33%.\n",
      "Колонка publisher. Тип данных object. Количество пустых значений 280, 11.79%.\n",
      "Колонка language. Тип данных object. Количество пустых значений 20, 0.84%.\n"
     ]
    }
   ],
   "source": [
    "\n",
    "# Выберем категориальные колонки с пропущенными значениями\n",
    "# Цикл по колонкам датасета\n",
    "cat_cols = []\n",
    "for col in data.columns:\n",
    "    # Количество пустых значений\n",
    "    temp_null_count = data[data[col].isnull()].shape[0]\n",
    "    dt = str(data[col].dtype)\n",
    "    if temp_null_count>0 and (dt=='object'):\n",
    "        cat_cols.append(col)\n",
    "        temp_perc = round((temp_null_count / total_count) * 100.0, 2)\n",
    "        print('Колонка {}. Тип данных {}. Количество пустых значений {}, {}%.'.format(col, dt, temp_null_count, temp_perc))"
   ]
  },
  {
   "cell_type": "code",
   "execution_count": 29,
   "metadata": {
    "colab": {
     "base_uri": "https://localhost:8080/",
     "height": 206
    },
    "id": "BsMM7GFqrc2f",
    "outputId": "28d109bb-d0fb-4d23-bd88-ea90feeb1422"
   },
   "outputs": [
    {
     "data": {
      "text/html": [
       "<div>\n",
       "<style scoped>\n",
       "    .dataframe tbody tr th:only-of-type {\n",
       "        vertical-align: middle;\n",
       "    }\n",
       "\n",
       "    .dataframe tbody tr th {\n",
       "        vertical-align: top;\n",
       "    }\n",
       "\n",
       "    .dataframe thead th {\n",
       "        text-align: right;\n",
       "    }\n",
       "</style>\n",
       "<table border=\"1\" class=\"dataframe\">\n",
       "  <thead>\n",
       "    <tr style=\"text-align: right;\">\n",
       "      <th></th>\n",
       "      <th>language</th>\n",
       "    </tr>\n",
       "  </thead>\n",
       "  <tbody>\n",
       "    <tr>\n",
       "      <th>0</th>\n",
       "      <td>english</td>\n",
       "    </tr>\n",
       "    <tr>\n",
       "      <th>1</th>\n",
       "      <td>english</td>\n",
       "    </tr>\n",
       "    <tr>\n",
       "      <th>2</th>\n",
       "      <td>english</td>\n",
       "    </tr>\n",
       "    <tr>\n",
       "      <th>3</th>\n",
       "      <td>english</td>\n",
       "    </tr>\n",
       "    <tr>\n",
       "      <th>4</th>\n",
       "      <td>english</td>\n",
       "    </tr>\n",
       "  </tbody>\n",
       "</table>\n",
       "</div>"
      ],
      "text/plain": [
       "  language\n",
       "0  english\n",
       "1  english\n",
       "2  english\n",
       "3  english\n",
       "4  english"
      ]
     },
     "execution_count": 29,
     "metadata": {},
     "output_type": "execute_result"
    }
   ],
   "source": [
    "cat_temp_data = data[['language']]\n",
    "cat_temp_data.head()"
   ]
  },
  {
   "cell_type": "code",
   "execution_count": 30,
   "metadata": {
    "colab": {
     "base_uri": "https://localhost:8080/"
    },
    "id": "vP3lT6pirlZX",
    "outputId": "2b9423d2-2d5d-4751-e979-bd07013b8688"
   },
   "outputs": [
    {
     "data": {
      "text/plain": [
       "array(['english', nan, 'russian', 'English', 'chinese', 'french',\n",
       "       'engish', 'romanian,moldavian,moldovan', 'german',\n",
       "       'english, german'], dtype=object)"
      ]
     },
     "execution_count": 30,
     "metadata": {},
     "output_type": "execute_result"
    }
   ],
   "source": [
    "cat_temp_data['language'].unique()\n"
   ]
  },
  {
   "cell_type": "code",
   "execution_count": 31,
   "metadata": {
    "colab": {
     "base_uri": "https://localhost:8080/"
    },
    "id": "grQWJe_Xrn9D",
    "outputId": "f0854e89-b784-430d-d312-2a386db73aa0"
   },
   "outputs": [
    {
     "data": {
      "text/plain": [
       "array([['english'],\n",
       "       ['english'],\n",
       "       ['english'],\n",
       "       ...,\n",
       "       ['english'],\n",
       "       ['english'],\n",
       "       ['english']], dtype=object)"
      ]
     },
     "execution_count": 31,
     "metadata": {},
     "output_type": "execute_result"
    }
   ],
   "source": [
    "# Импьютация наиболее частыми значениями\n",
    "imp2 = SimpleImputer(missing_values=np.nan, strategy='most_frequent')\n",
    "data_imp2 = imp2.fit_transform(cat_temp_data)\n",
    "data_imp2"
   ]
  },
  {
   "cell_type": "code",
   "execution_count": 32,
   "metadata": {
    "colab": {
     "base_uri": "https://localhost:8080/"
    },
    "id": "CeY0h8YcrxRB",
    "outputId": "e986042c-d1cf-4e77-dd96-c24933e99f0a"
   },
   "outputs": [
    {
     "data": {
      "text/plain": [
       "array(['English', 'chinese', 'engish', 'english', 'english, german',\n",
       "       'french', 'german', 'romanian,moldavian,moldovan', 'russian'],\n",
       "      dtype=object)"
      ]
     },
     "execution_count": 32,
     "metadata": {},
     "output_type": "execute_result"
    }
   ],
   "source": [
    "# Пустые значения отсутствуют\n",
    "np.unique(data_imp2)"
   ]
  },
  {
   "cell_type": "code",
   "execution_count": 33,
   "metadata": {
    "colab": {
     "base_uri": "https://localhost:8080/"
    },
    "id": "wltc5J5Rr_XN",
    "outputId": "2798ab17-88d4-4513-b35b-2fed0b716be2"
   },
   "outputs": [
    {
     "data": {
      "text/plain": [
       "array([['english'],\n",
       "       ['english'],\n",
       "       ['english'],\n",
       "       ...,\n",
       "       ['english'],\n",
       "       ['english'],\n",
       "       ['english']], dtype=object)"
      ]
     },
     "execution_count": 33,
     "metadata": {},
     "output_type": "execute_result"
    }
   ],
   "source": [
    "# Импьютация константой\n",
    "imp3 = SimpleImputer(missing_values=np.nan, strategy='constant', fill_value='spanish')\n",
    "data_imp3 = imp3.fit_transform(cat_temp_data)\n",
    "data_imp3"
   ]
  },
  {
   "cell_type": "code",
   "execution_count": 34,
   "metadata": {
    "colab": {
     "base_uri": "https://localhost:8080/"
    },
    "id": "SStlboUNsXgT",
    "outputId": "4d4e4d43-5a62-4a2e-85a1-a3a5541c791b"
   },
   "outputs": [
    {
     "data": {
      "text/plain": [
       "array(['English', 'chinese', 'engish', 'english', 'english, german',\n",
       "       'french', 'german', 'romanian,moldavian,moldovan', 'russian',\n",
       "       'spanish'], dtype=object)"
      ]
     },
     "execution_count": 34,
     "metadata": {},
     "output_type": "execute_result"
    }
   ],
   "source": [
    "np.unique(data_imp3)"
   ]
  },
  {
   "cell_type": "markdown",
   "metadata": {
    "id": "5VGsORexsjMd"
   },
   "source": [
    "Преобразование категориальных признаков в числовые"
   ]
  },
  {
   "cell_type": "code",
   "execution_count": 35,
   "metadata": {
    "colab": {
     "base_uri": "https://localhost:8080/",
     "height": 423
    },
    "id": "bxxsshOEsiRy",
    "outputId": "77225814-e10d-413e-d9e7-6ac59034a4cf"
   },
   "outputs": [
    {
     "data": {
      "text/html": [
       "<div>\n",
       "<style scoped>\n",
       "    .dataframe tbody tr th:only-of-type {\n",
       "        vertical-align: middle;\n",
       "    }\n",
       "\n",
       "    .dataframe tbody tr th {\n",
       "        vertical-align: top;\n",
       "    }\n",
       "\n",
       "    .dataframe thead th {\n",
       "        text-align: right;\n",
       "    }\n",
       "</style>\n",
       "<table border=\"1\" class=\"dataframe\">\n",
       "  <thead>\n",
       "    <tr style=\"text-align: right;\">\n",
       "      <th></th>\n",
       "      <th>c1</th>\n",
       "    </tr>\n",
       "  </thead>\n",
       "  <tbody>\n",
       "    <tr>\n",
       "      <th>0</th>\n",
       "      <td>english</td>\n",
       "    </tr>\n",
       "    <tr>\n",
       "      <th>1</th>\n",
       "      <td>english</td>\n",
       "    </tr>\n",
       "    <tr>\n",
       "      <th>2</th>\n",
       "      <td>english</td>\n",
       "    </tr>\n",
       "    <tr>\n",
       "      <th>3</th>\n",
       "      <td>english</td>\n",
       "    </tr>\n",
       "    <tr>\n",
       "      <th>4</th>\n",
       "      <td>english</td>\n",
       "    </tr>\n",
       "    <tr>\n",
       "      <th>...</th>\n",
       "      <td>...</td>\n",
       "    </tr>\n",
       "    <tr>\n",
       "      <th>2370</th>\n",
       "      <td>english</td>\n",
       "    </tr>\n",
       "    <tr>\n",
       "      <th>2371</th>\n",
       "      <td>english</td>\n",
       "    </tr>\n",
       "    <tr>\n",
       "      <th>2372</th>\n",
       "      <td>english</td>\n",
       "    </tr>\n",
       "    <tr>\n",
       "      <th>2373</th>\n",
       "      <td>english</td>\n",
       "    </tr>\n",
       "    <tr>\n",
       "      <th>2374</th>\n",
       "      <td>english</td>\n",
       "    </tr>\n",
       "  </tbody>\n",
       "</table>\n",
       "<p>2375 rows × 1 columns</p>\n",
       "</div>"
      ],
      "text/plain": [
       "           c1\n",
       "0     english\n",
       "1     english\n",
       "2     english\n",
       "3     english\n",
       "4     english\n",
       "...       ...\n",
       "2370  english\n",
       "2371  english\n",
       "2372  english\n",
       "2373  english\n",
       "2374  english\n",
       "\n",
       "[2375 rows x 1 columns]"
      ]
     },
     "execution_count": 35,
     "metadata": {},
     "output_type": "execute_result"
    }
   ],
   "source": [
    "cat_enc = pd.DataFrame({'c1':data_imp2.T[0]})\n",
    "cat_enc"
   ]
  },
  {
   "cell_type": "code",
   "execution_count": 36,
   "metadata": {
    "colab": {
     "base_uri": "https://localhost:8080/"
    },
    "id": "jO8EwX27s0U1",
    "outputId": "b8441121-ab3b-4476-8ea9-80a5e45a0f1b"
   },
   "outputs": [
    {
     "data": {
      "text/plain": [
       "array(['english', 'russian', 'English', 'chinese', 'french', 'engish',\n",
       "       'romanian,moldavian,moldovan', 'german', 'english, german'],\n",
       "      dtype=object)"
      ]
     },
     "execution_count": 36,
     "metadata": {},
     "output_type": "execute_result"
    }
   ],
   "source": [
    "cat_enc['c1'].unique()"
   ]
  },
  {
   "cell_type": "code",
   "execution_count": 37,
   "metadata": {
    "id": "0t5ibGLhs5W-"
   },
   "outputs": [],
   "source": [
    "le = LabelEncoder()\n",
    "cat_enc_le = le.fit_transform(cat_enc['c1'])"
   ]
  },
  {
   "cell_type": "code",
   "execution_count": 38,
   "metadata": {
    "colab": {
     "base_uri": "https://localhost:8080/"
    },
    "id": "5yY-p2jmtDow",
    "outputId": "86418e7d-e36e-4001-e0be-30ed3848dc7a"
   },
   "outputs": [
    {
     "data": {
      "text/plain": [
       "array(['English', 'chinese', 'engish', 'english', 'english, german',\n",
       "       'french', 'german', 'romanian,moldavian,moldovan', 'russian'],\n",
       "      dtype=object)"
      ]
     },
     "execution_count": 38,
     "metadata": {},
     "output_type": "execute_result"
    }
   ],
   "source": [
    "le.classes_"
   ]
  },
  {
   "cell_type": "code",
   "execution_count": 39,
   "metadata": {
    "colab": {
     "base_uri": "https://localhost:8080/"
    },
    "id": "_ED5ey3PtKIp",
    "outputId": "21d500b3-a073-4079-c907-cf80ae67406f"
   },
   "outputs": [
    {
     "data": {
      "text/plain": [
       "array([3, 3, 3, ..., 3, 3, 3])"
      ]
     },
     "execution_count": 39,
     "metadata": {},
     "output_type": "execute_result"
    }
   ],
   "source": [
    "cat_enc_le\n"
   ]
  },
  {
   "cell_type": "code",
   "execution_count": 40,
   "metadata": {
    "colab": {
     "base_uri": "https://localhost:8080/"
    },
    "id": "xMDB4VPPtNnG",
    "outputId": "0efb690e-4842-4dd2-ef3d-5f797a6c9d31"
   },
   "outputs": [
    {
     "data": {
      "text/plain": [
       "array([0, 1, 2, 3, 4, 5, 6, 7, 8])"
      ]
     },
     "execution_count": 40,
     "metadata": {},
     "output_type": "execute_result"
    }
   ],
   "source": [
    "np.unique(cat_enc_le)"
   ]
  },
  {
   "cell_type": "markdown",
   "metadata": {
    "id": "zMdRvme-tWC8"
   },
   "source": [
    "Масштабирование данных"
   ]
  },
  {
   "cell_type": "code",
   "execution_count": 41,
   "metadata": {
    "id": "p_-UZD27tVk3"
   },
   "outputs": [],
   "source": [
    "sc2 = StandardScaler()\n",
    "sc2_data = sc2.fit_transform(data[['pages']])"
   ]
  },
  {
   "cell_type": "code",
   "execution_count": 42,
   "metadata": {
    "colab": {
     "base_uri": "https://localhost:8080/",
     "height": 434
    },
    "id": "JtBfQcAyuXzE",
    "outputId": "2438ccf2-3896-4087-fa92-a72d0a091072"
   },
   "outputs": [
    {
     "data": {
      "image/png": "[encoded data removed]",
      "text/plain": [
       "<Figure size 640x480 with 1 Axes>"
      ]
     },
     "metadata": {},
     "output_type": "display_data"
    }
   ],
   "source": [
    "plt.hist(sc2_data, 50)\n",
    "plt.show()"
   ]
  }
 ],
 "metadata": {
  "colab": {
   "provenance": []
  },
  "kernelspec": {
   "display_name": "Python 3 (ipykernel)",
   "language": "python",
   "name": "python3"
  },
  "language_info": {
   "codemirror_mode": {
    "name": "ipython",
    "version": 3
   },
   "file_extension": ".py",
   "mimetype": "text/x-python",
   "name": "python",
   "nbconvert_exporter": "python",
   "pygments_lexer": "ipython3",
   "version": "3.12.3"
  }
 },
 "nbformat": 4,
 "nbformat_minor": 4
}
