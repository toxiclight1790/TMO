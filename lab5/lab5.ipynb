{
  "cells": [
    {
      "cell_type": "markdown",
      "metadata": {
        "id": "_lVfpHLCGYu0"
      },
      "source": [
        "# Ансамбли моделей машинного обучения\n",
        "## 1)Выберите набор данных (датасет) для решения задачи классификации или регресии.\n",
        "## Импорт библиотек"
      ]
    },
    {
      "cell_type": "code",
      "execution_count": null,
      "metadata": {
        "colab": {
          "base_uri": "https://localhost:8080/"
        },
        "id": "0WcQ_SX_GYu0",
        "outputId": "44f1514c-1b82-48d2-83dc-cf8f47e62061"
      },
      "outputs": [
        {
          "name": "stdout",
          "output_type": "stream",
          "text": [
            "Collecting heamy\n",
            "  Downloading heamy-0.0.7.tar.gz (30 kB)\n",
            "  Preparing metadata (setup.py) ... \u001b[?25l\u001b[?25hdone\n",
            "Requirement already satisfied: scikit-learn>=0.17.0 in /usr/local/lib/python3.10/dist-packages (from heamy) (1.2.2)\n",
            "Requirement already satisfied: pandas>=0.17.0 in /usr/local/lib/python3.10/dist-packages (from heamy) (2.0.3)\n",
            "Requirement already satisfied: six>=1.10.0 in /usr/local/lib/python3.10/dist-packages (from heamy) (1.16.0)\n",
            "Requirement already satisfied: scipy>=0.16.0 in /usr/local/lib/python3.10/dist-packages (from heamy) (1.11.4)\n",
            "Requirement already satisfied: numpy>=1.7.0 in /usr/local/lib/python3.10/dist-packages (from heamy) (1.25.2)\n",
            "Requirement already satisfied: python-dateutil>=2.8.2 in /usr/local/lib/python3.10/dist-packages (from pandas>=0.17.0->heamy) (2.8.2)\n",
            "Requirement already satisfied: pytz>=2020.1 in /usr/local/lib/python3.10/dist-packages (from pandas>=0.17.0->heamy) (2023.4)\n",
            "Requirement already satisfied: tzdata>=2022.1 in /usr/local/lib/python3.10/dist-packages (from pandas>=0.17.0->heamy) (2024.1)\n",
            "Requirement already satisfied: joblib>=1.1.1 in /usr/local/lib/python3.10/dist-packages (from scikit-learn>=0.17.0->heamy) (1.4.2)\n",
            "Requirement already satisfied: threadpoolctl>=2.0.0 in /usr/local/lib/python3.10/dist-packages (from scikit-learn>=0.17.0->heamy) (3.5.0)\n",
            "Building wheels for collected packages: heamy\n",
            "  Building wheel for heamy (setup.py) ... \u001b[?25l\u001b[?25hdone\n",
            "  Created wheel for heamy: filename=heamy-0.0.7-py2.py3-none-any.whl size=15347 sha256=45c231459434ac63979eb3b82cda74305f276d58c5e7ef638b8ca3ba9c2c86a0\n",
            "  Stored in directory: /root/.cache/pip/wheels/e5/e4/9a/bc85119b96421369998ff0f53c0854b57bfb518c460fe8c5de\n",
            "Successfully built heamy\n",
            "Installing collected packages: heamy\n",
            "Successfully installed heamy-0.0.7\n"
          ]
        }
      ],
      "source": [
        "import numpy as np\n",
        "import pandas as pd\n",
        "from sklearn.linear_model import LinearRegression\n",
        "from typing import Dict, Tuple\n",
        "from scipy import stats\n",
        "from sklearn.datasets import load_iris\n",
        "from IPython.display import Image\n",
        "from io import StringIO\n",
        "from IPython.display import Image\n",
        "import graphviz\n",
        "import pydotplus\n",
        "from sklearn.model_selection import cross_val_score\n",
        "from sklearn.model_selection import train_test_split\n",
        "from sklearn.neighbors import KNeighborsRegressor, KNeighborsClassifier\n",
        "from sklearn.model_selection import GridSearchCV, RandomizedSearchCV\n",
        "from sklearn.metrics import accuracy_score, balanced_accuracy_score\n",
        "from sklearn.metrics import precision_score, recall_score, f1_score, classification_report\n",
        "from sklearn.metrics import confusion_matrix\n",
        "from sklearn.tree import DecisionTreeClassifier, DecisionTreeRegressor, export_graphviz\n",
        "from sklearn.ensemble import RandomForestClassifier, RandomForestRegressor\n",
        "from sklearn.ensemble import ExtraTreesClassifier, ExtraTreesRegressor\n",
        "from sklearn.ensemble import GradientBoostingClassifier, GradientBoostingRegressor\n",
        "from sklearn.ensemble import BaggingClassifier\n",
        "from sklearn.ensemble import AdaBoostClassifier\n",
        "from sklearn.metrics import mean_absolute_error, mean_squared_error, mean_squared_log_error, median_absolute_error, r2_score\n",
        "from sklearn.metrics import roc_curve, roc_auc_score\n",
        "import seaborn as sns\n",
        "import matplotlib.pyplot as plt\n",
        "!pip install -U heamy"
      ]
    },
    {
      "cell_type": "code",
      "execution_count": null,
      "metadata": {
        "id": "WKTAn4XiGYu1"
      },
      "outputs": [],
      "source": [
        "data=pd.read_csv('breast-cancer.csv',sep=\",\")"
      ]
    },
    {
      "cell_type": "code",
      "execution_count": null,
      "metadata": {
        "colab": {
          "base_uri": "https://localhost:8080/",
          "height": 273
        },
        "id": "AV4tzkOpGYu1",
        "outputId": "f03b2578-89c5-48a0-949b-a7061ca88d36"
      },
      "outputs": [
        {
          "data": {
            "application/vnd.google.colaboratory.intrinsic+json": {
              "type": "dataframe",
              "variable_name": "data"
            },
            "text/html": [
              "\n",
              "  <div id=\"df-b267bf1e-5d16-4f97-9fb7-36c3975c004d\" class=\"colab-df-container\">\n",
              "    <div>\n",
              "<style scoped>\n",
              "    .dataframe tbody tr th:only-of-type {\n",
              "        vertical-align: middle;\n",
              "    }\n",
              "\n",
              "    .dataframe tbody tr th {\n",
              "        vertical-align: top;\n",
              "    }\n",
              "\n",
              "    .dataframe thead th {\n",
              "        text-align: right;\n",
              "    }\n",
              "</style>\n",
              "<table border=\"1\" class=\"dataframe\">\n",
              "  <thead>\n",
              "    <tr style=\"text-align: right;\">\n",
              "      <th></th>\n",
              "      <th>id</th>\n",
              "      <th>diagnosis</th>\n",
              "      <th>radius_mean</th>\n",
              "      <th>texture_mean</th>\n",
              "      <th>perimeter_mean</th>\n",
              "      <th>area_mean</th>\n",
              "      <th>smoothness_mean</th>\n",
              "      <th>compactness_mean</th>\n",
              "      <th>concavity_mean</th>\n",
              "      <th>concave points_mean</th>\n",
              "      <th>...</th>\n",
              "      <th>radius_worst</th>\n",
              "      <th>texture_worst</th>\n",
              "      <th>perimeter_worst</th>\n",
              "      <th>area_worst</th>\n",
              "      <th>smoothness_worst</th>\n",
              "      <th>compactness_worst</th>\n",
              "      <th>concavity_worst</th>\n",
              "      <th>concave points_worst</th>\n",
              "      <th>symmetry_worst</th>\n",
              "      <th>fractal_dimension_worst</th>\n",
              "    </tr>\n",
              "  </thead>\n",
              "  <tbody>\n",
              "    <tr>\n",
              "      <th>0</th>\n",
              "      <td>842302</td>\n",
              "      <td>M</td>\n",
              "      <td>17.99</td>\n",
              "      <td>10.38</td>\n",
              "      <td>122.80</td>\n",
              "      <td>1001.0</td>\n",
              "      <td>0.11840</td>\n",
              "      <td>0.27760</td>\n",
              "      <td>0.3001</td>\n",
              "      <td>0.14710</td>\n",
              "      <td>...</td>\n",
              "      <td>25.38</td>\n",
              "      <td>17.33</td>\n",
              "      <td>184.60</td>\n",
              "      <td>2019.0</td>\n",
              "      <td>0.1622</td>\n",
              "      <td>0.6656</td>\n",
              "      <td>0.7119</td>\n",
              "      <td>0.2654</td>\n",
              "      <td>0.4601</td>\n",
              "      <td>0.11890</td>\n",
              "    </tr>\n",
              "    <tr>\n",
              "      <th>1</th>\n",
              "      <td>842517</td>\n",
              "      <td>M</td>\n",
              "      <td>20.57</td>\n",
              "      <td>17.77</td>\n",
              "      <td>132.90</td>\n",
              "      <td>1326.0</td>\n",
              "      <td>0.08474</td>\n",
              "      <td>0.07864</td>\n",
              "      <td>0.0869</td>\n",
              "      <td>0.07017</td>\n",
              "      <td>...</td>\n",
              "      <td>24.99</td>\n",
              "      <td>23.41</td>\n",
              "      <td>158.80</td>\n",
              "      <td>1956.0</td>\n",
              "      <td>0.1238</td>\n",
              "      <td>0.1866</td>\n",
              "      <td>0.2416</td>\n",
              "      <td>0.1860</td>\n",
              "      <td>0.2750</td>\n",
              "      <td>0.08902</td>\n",
              "    </tr>\n",
              "    <tr>\n",
              "      <th>2</th>\n",
              "      <td>84300903</td>\n",
              "      <td>M</td>\n",
              "      <td>19.69</td>\n",
              "      <td>21.25</td>\n",
              "      <td>130.00</td>\n",
              "      <td>1203.0</td>\n",
              "      <td>0.10960</td>\n",
              "      <td>0.15990</td>\n",
              "      <td>0.1974</td>\n",
              "      <td>0.12790</td>\n",
              "      <td>...</td>\n",
              "      <td>23.57</td>\n",
              "      <td>25.53</td>\n",
              "      <td>152.50</td>\n",
              "      <td>1709.0</td>\n",
              "      <td>0.1444</td>\n",
              "      <td>0.4245</td>\n",
              "      <td>0.4504</td>\n",
              "      <td>0.2430</td>\n",
              "      <td>0.3613</td>\n",
              "      <td>0.08758</td>\n",
              "    </tr>\n",
              "    <tr>\n",
              "      <th>3</th>\n",
              "      <td>84348301</td>\n",
              "      <td>M</td>\n",
              "      <td>11.42</td>\n",
              "      <td>20.38</td>\n",
              "      <td>77.58</td>\n",
              "      <td>386.1</td>\n",
              "      <td>0.14250</td>\n",
              "      <td>0.28390</td>\n",
              "      <td>0.2414</td>\n",
              "      <td>0.10520</td>\n",
              "      <td>...</td>\n",
              "      <td>14.91</td>\n",
              "      <td>26.50</td>\n",
              "      <td>98.87</td>\n",
              "      <td>567.7</td>\n",
              "      <td>0.2098</td>\n",
              "      <td>0.8663</td>\n",
              "      <td>0.6869</td>\n",
              "      <td>0.2575</td>\n",
              "      <td>0.6638</td>\n",
              "      <td>0.17300</td>\n",
              "    </tr>\n",
              "    <tr>\n",
              "      <th>4</th>\n",
              "      <td>84358402</td>\n",
              "      <td>M</td>\n",
              "      <td>20.29</td>\n",
              "      <td>14.34</td>\n",
              "      <td>135.10</td>\n",
              "      <td>1297.0</td>\n",
              "      <td>0.10030</td>\n",
              "      <td>0.13280</td>\n",
              "      <td>0.1980</td>\n",
              "      <td>0.10430</td>\n",
              "      <td>...</td>\n",
              "      <td>22.54</td>\n",
              "      <td>16.67</td>\n",
              "      <td>152.20</td>\n",
              "      <td>1575.0</td>\n",
              "      <td>0.1374</td>\n",
              "      <td>0.2050</td>\n",
              "      <td>0.4000</td>\n",
              "      <td>0.1625</td>\n",
              "      <td>0.2364</td>\n",
              "      <td>0.07678</td>\n",
              "    </tr>\n",
              "  </tbody>\n",
              "</table>\n",
              "<p>5 rows × 32 columns</p>\n",
              "</div>\n",
              "    <div class=\"colab-df-buttons\">\n",
              "\n",
              "  <div class=\"colab-df-container\">\n",
              "    <button class=\"colab-df-convert\" onclick=\"convertToInteractive('df-b267bf1e-5d16-4f97-9fb7-36c3975c004d')\"\n",
              "            title=\"Convert this dataframe to an interactive table.\"\n",
              "            style=\"display:none;\">\n",
              "\n",
              "  <svg xmlns=\"http://www.w3.org/2000/svg\" height=\"24px\" viewBox=\"0 -960 960 960\">\n",
              "    <path d=\"M120-120v-720h720v720H120Zm60-500h600v-160H180v160Zm220 220h160v-160H400v160Zm0 220h160v-160H400v160ZM180-400h160v-160H180v160Zm440 0h160v-160H620v160ZM180-180h160v-160H180v160Zm440 0h160v-160H620v160Z\"/>\n",
              "  </svg>\n",
              "    </button>\n",
              "\n",
              "  <style>\n",
              "    .colab-df-container {\n",
              "      display:flex;\n",
              "      gap: 12px;\n",
              "    }\n",
              "\n",
              "    .colab-df-convert {\n",
              "      background-color: #E8F0FE;\n",
              "      border: none;\n",
              "      border-radius: 50%;\n",
              "      cursor: pointer;\n",
              "      display: none;\n",
              "      fill: #1967D2;\n",
              "      height: 32px;\n",
              "      padding: 0 0 0 0;\n",
              "      width: 32px;\n",
              "    }\n",
              "\n",
              "    .colab-df-convert:hover {\n",
              "      background-color: #E2EBFA;\n",
              "      box-shadow: 0px 1px 2px rgba(60, 64, 67, 0.3), 0px 1px 3px 1px rgba(60, 64, 67, 0.15);\n",
              "      fill: #174EA6;\n",
              "    }\n",
              "\n",
              "    .colab-df-buttons div {\n",
              "      margin-bottom: 4px;\n",
              "    }\n",
              "\n",
              "    [theme=dark] .colab-df-convert {\n",
              "      background-color: #3B4455;\n",
              "      fill: #D2E3FC;\n",
              "    }\n",
              "\n",
              "    [theme=dark] .colab-df-convert:hover {\n",
              "      background-color: #434B5C;\n",
              "      box-shadow: 0px 1px 3px 1px rgba(0, 0, 0, 0.15);\n",
              "      filter: drop-shadow(0px 1px 2px rgba(0, 0, 0, 0.3));\n",
              "      fill: #FFFFFF;\n",
              "    }\n",
              "  </style>\n",
              "\n",
              "    <script>\n",
              "      const buttonEl =\n",
              "        document.querySelector('#df-b267bf1e-5d16-4f97-9fb7-36c3975c004d button.colab-df-convert');\n",
              "      buttonEl.style.display =\n",
              "        google.colab.kernel.accessAllowed ? 'block' : 'none';\n",
              "\n",
              "      async function convertToInteractive(key) {\n",
              "        const element = document.querySelector('#df-b267bf1e-5d16-4f97-9fb7-36c3975c004d');\n",
              "        const dataTable =\n",
              "          await google.colab.kernel.invokeFunction('convertToInteractive',\n",
              "                                                    [key], {});\n",
              "        if (!dataTable) return;\n",
              "\n",
              "        const docLinkHtml = 'Like what you see? Visit the ' +\n",
              "          '<a target=\"_blank\" href=https://colab.research.google.com/notebooks/data_table.ipynb>data table notebook</a>'\n",
              "          + ' to learn more about interactive tables.';\n",
              "        element.innerHTML = '';\n",
              "        dataTable['output_type'] = 'display_data';\n",
              "        await google.colab.output.renderOutput(dataTable, element);\n",
              "        const docLink = document.createElement('div');\n",
              "        docLink.innerHTML = docLinkHtml;\n",
              "        element.appendChild(docLink);\n",
              "      }\n",
              "    </script>\n",
              "  </div>\n",
              "\n",
              "\n",
              "<div id=\"df-7c27e71a-53f5-4d3d-a463-dbac9c97963a\">\n",
              "  <button class=\"colab-df-quickchart\" onclick=\"quickchart('df-7c27e71a-53f5-4d3d-a463-dbac9c97963a')\"\n",
              "            title=\"Suggest charts\"\n",
              "            style=\"display:none;\">\n",
              "\n",
              "<svg xmlns=\"http://www.w3.org/2000/svg\" height=\"24px\"viewBox=\"0 0 24 24\"\n",
              "     width=\"24px\">\n",
              "    <g>\n",
              "        <path d=\"M19 3H5c-1.1 0-2 .9-2 2v14c0 1.1.9 2 2 2h14c1.1 0 2-.9 2-2V5c0-1.1-.9-2-2-2zM9 17H7v-7h2v7zm4 0h-2V7h2v10zm4 0h-2v-4h2v4z\"/>\n",
              "    </g>\n",
              "</svg>\n",
              "  </button>\n",
              "\n",
              "<style>\n",
              "  .colab-df-quickchart {\n",
              "      --bg-color: #E8F0FE;\n",
              "      --fill-color: #1967D2;\n",
              "      --hover-bg-color: #E2EBFA;\n",
              "      --hover-fill-color: #174EA6;\n",
              "      --disabled-fill-color: #AAA;\n",
              "      --disabled-bg-color: #DDD;\n",
              "  }\n",
              "\n",
              "  [theme=dark] .colab-df-quickchart {\n",
              "      --bg-color: #3B4455;\n",
              "      --fill-color: #D2E3FC;\n",
              "      --hover-bg-color: #434B5C;\n",
              "      --hover-fill-color: #FFFFFF;\n",
              "      --disabled-bg-color: #3B4455;\n",
              "      --disabled-fill-color: #666;\n",
              "  }\n",
              "\n",
              "  .colab-df-quickchart {\n",
              "    background-color: var(--bg-color);\n",
              "    border: none;\n",
              "    border-radius: 50%;\n",
              "    cursor: pointer;\n",
              "    display: none;\n",
              "    fill: var(--fill-color);\n",
              "    height: 32px;\n",
              "    padding: 0;\n",
              "    width: 32px;\n",
              "  }\n",
              "\n",
              "  .colab-df-quickchart:hover {\n",
              "    background-color: var(--hover-bg-color);\n",
              "    box-shadow: 0 1px 2px rgba(60, 64, 67, 0.3), 0 1px 3px 1px rgba(60, 64, 67, 0.15);\n",
              "    fill: var(--button-hover-fill-color);\n",
              "  }\n",
              "\n",
              "  .colab-df-quickchart-complete:disabled,\n",
              "  .colab-df-quickchart-complete:disabled:hover {\n",
              "    background-color: var(--disabled-bg-color);\n",
              "    fill: var(--disabled-fill-color);\n",
              "    box-shadow: none;\n",
              "  }\n",
              "\n",
              "  .colab-df-spinner {\n",
              "    border: 2px solid var(--fill-color);\n",
              "    border-color: transparent;\n",
              "    border-bottom-color: var(--fill-color);\n",
              "    animation:\n",
              "      spin 1s steps(1) infinite;\n",
              "  }\n",
              "\n",
              "  @keyframes spin {\n",
              "    0% {\n",
              "      border-color: transparent;\n",
              "      border-bottom-color: var(--fill-color);\n",
              "      border-left-color: var(--fill-color);\n",
              "    }\n",
              "    20% {\n",
              "      border-color: transparent;\n",
              "      border-left-color: var(--fill-color);\n",
              "      border-top-color: var(--fill-color);\n",
              "    }\n",
              "    30% {\n",
              "      border-color: transparent;\n",
              "      border-left-color: var(--fill-color);\n",
              "      border-top-color: var(--fill-color);\n",
              "      border-right-color: var(--fill-color);\n",
              "    }\n",
              "    40% {\n",
              "      border-color: transparent;\n",
              "      border-right-color: var(--fill-color);\n",
              "      border-top-color: var(--fill-color);\n",
              "    }\n",
              "    60% {\n",
              "      border-color: transparent;\n",
              "      border-right-color: var(--fill-color);\n",
              "    }\n",
              "    80% {\n",
              "      border-color: transparent;\n",
              "      border-right-color: var(--fill-color);\n",
              "      border-bottom-color: var(--fill-color);\n",
              "    }\n",
              "    90% {\n",
              "      border-color: transparent;\n",
              "      border-bottom-color: var(--fill-color);\n",
              "    }\n",
              "  }\n",
              "</style>\n",
              "\n",
              "  <script>\n",
              "    async function quickchart(key) {\n",
              "      const quickchartButtonEl =\n",
              "        document.querySelector('#' + key + ' button');\n",
              "      quickchartButtonEl.disabled = true;  // To prevent multiple clicks.\n",
              "      quickchartButtonEl.classList.add('colab-df-spinner');\n",
              "      try {\n",
              "        const charts = await google.colab.kernel.invokeFunction(\n",
              "            'suggestCharts', [key], {});\n",
              "      } catch (error) {\n",
              "        console.error('Error during call to suggestCharts:', error);\n",
              "      }\n",
              "      quickchartButtonEl.classList.remove('colab-df-spinner');\n",
              "      quickchartButtonEl.classList.add('colab-df-quickchart-complete');\n",
              "    }\n",
              "    (() => {\n",
              "      let quickchartButtonEl =\n",
              "        document.querySelector('#df-7c27e71a-53f5-4d3d-a463-dbac9c97963a button');\n",
              "      quickchartButtonEl.style.display =\n",
              "        google.colab.kernel.accessAllowed ? 'block' : 'none';\n",
              "    })();\n",
              "  </script>\n",
              "</div>\n",
              "    </div>\n",
              "  </div>\n"
            ],
            "text/plain": [
              "         id diagnosis  radius_mean  texture_mean  perimeter_mean  area_mean  \\\n",
              "0    842302         M        17.99         10.38          122.80     1001.0   \n",
              "1    842517         M        20.57         17.77          132.90     1326.0   \n",
              "2  84300903         M        19.69         21.25          130.00     1203.0   \n",
              "3  84348301         M        11.42         20.38           77.58      386.1   \n",
              "4  84358402         M        20.29         14.34          135.10     1297.0   \n",
              "\n",
              "   smoothness_mean  compactness_mean  concavity_mean  concave points_mean  \\\n",
              "0          0.11840           0.27760          0.3001              0.14710   \n",
              "1          0.08474           0.07864          0.0869              0.07017   \n",
              "2          0.10960           0.15990          0.1974              0.12790   \n",
              "3          0.14250           0.28390          0.2414              0.10520   \n",
              "4          0.10030           0.13280          0.1980              0.10430   \n",
              "\n",
              "   ...  radius_worst  texture_worst  perimeter_worst  area_worst  \\\n",
              "0  ...         25.38          17.33           184.60      2019.0   \n",
              "1  ...         24.99          23.41           158.80      1956.0   \n",
              "2  ...         23.57          25.53           152.50      1709.0   \n",
              "3  ...         14.91          26.50            98.87       567.7   \n",
              "4  ...         22.54          16.67           152.20      1575.0   \n",
              "\n",
              "   smoothness_worst  compactness_worst  concavity_worst  concave points_worst  \\\n",
              "0            0.1622             0.6656           0.7119                0.2654   \n",
              "1            0.1238             0.1866           0.2416                0.1860   \n",
              "2            0.1444             0.4245           0.4504                0.2430   \n",
              "3            0.2098             0.8663           0.6869                0.2575   \n",
              "4            0.1374             0.2050           0.4000                0.1625   \n",
              "\n",
              "   symmetry_worst  fractal_dimension_worst  \n",
              "0          0.4601                  0.11890  \n",
              "1          0.2750                  0.08902  \n",
              "2          0.3613                  0.08758  \n",
              "3          0.6638                  0.17300  \n",
              "4          0.2364                  0.07678  \n",
              "\n",
              "[5 rows x 32 columns]"
            ]
          },
          "execution_count": 3,
          "metadata": {},
          "output_type": "execute_result"
        }
      ],
      "source": [
        "data.head()"
      ]
    },
    {
      "cell_type": "code",
      "execution_count": null,
      "metadata": {
        "colab": {
          "base_uri": "https://localhost:8080/"
        },
        "id": "8duHmur_GYu1",
        "outputId": "7103511e-2e0a-42fb-c085-b9d3abe814f8"
      },
      "outputs": [
        {
          "data": {
            "text/plain": [
              "(569, 32)"
            ]
          },
          "execution_count": 4,
          "metadata": {},
          "output_type": "execute_result"
        }
      ],
      "source": [
        "data.shape"
      ]
    },
    {
      "cell_type": "markdown",
      "metadata": {
        "id": "edr2Y3WwGYu1"
      },
      "source": [
        "## 2) проверка на пропуски в датасете"
      ]
    },
    {
      "cell_type": "code",
      "execution_count": null,
      "metadata": {
        "colab": {
          "base_uri": "https://localhost:8080/"
        },
        "id": "d-3QfLjgGYu1",
        "outputId": "0fa045f8-b71f-4819-bd0e-624b55912082"
      },
      "outputs": [
        {
          "data": {
            "text/plain": [
              "id                         0\n",
              "diagnosis                  0\n",
              "radius_mean                0\n",
              "texture_mean               0\n",
              "perimeter_mean             0\n",
              "area_mean                  0\n",
              "smoothness_mean            0\n",
              "compactness_mean           0\n",
              "concavity_mean             0\n",
              "concave points_mean        0\n",
              "symmetry_mean              0\n",
              "fractal_dimension_mean     0\n",
              "radius_se                  0\n",
              "texture_se                 0\n",
              "perimeter_se               0\n",
              "area_se                    0\n",
              "smoothness_se              0\n",
              "compactness_se             0\n",
              "concavity_se               0\n",
              "concave points_se          0\n",
              "symmetry_se                0\n",
              "fractal_dimension_se       0\n",
              "radius_worst               0\n",
              "texture_worst              0\n",
              "perimeter_worst            0\n",
              "area_worst                 0\n",
              "smoothness_worst           0\n",
              "compactness_worst          0\n",
              "concavity_worst            0\n",
              "concave points_worst       0\n",
              "symmetry_worst             0\n",
              "fractal_dimension_worst    0\n",
              "dtype: int64"
            ]
          },
          "execution_count": 5,
          "metadata": {},
          "output_type": "execute_result"
        }
      ],
      "source": [
        "data.isna().sum()"
      ]
    },
    {
      "cell_type": "markdown",
      "metadata": {
        "id": "sIg1WJ3pGYu1"
      },
      "source": [
        "## 3) Разделим датасет на обучающую и тестовую выборку"
      ]
    },
    {
      "cell_type": "code",
      "execution_count": null,
      "metadata": {
        "id": "hRK54LAZGYu1"
      },
      "outputs": [],
      "source": [
        "BC_X_train, BC_X_test, BC_y_train, BC_y_test = train_test_split(\n",
        "    data, data['diagnosis'], test_size=0.5, random_state=1)"
      ]
    },
    {
      "cell_type": "code",
      "execution_count": null,
      "metadata": {
        "id": "idovlwPMGYu1"
      },
      "outputs": [],
      "source": [
        "del BC_X_train['diagnosis']\n",
        "del BC_X_test['diagnosis']"
      ]
    },
    {
      "cell_type": "code",
      "execution_count": null,
      "metadata": {
        "colab": {
          "base_uri": "https://localhost:8080/"
        },
        "id": "0EYE0TLQGYu1",
        "outputId": "5f1b78fa-2dbd-46b8-c168-82a1459f9d67"
      },
      "outputs": [
        {
          "data": {
            "text/plain": [
              "138    M\n",
              "51     B\n",
              "437    B\n",
              "112    B\n",
              "265    M\n",
              "      ..\n",
              "129    M\n",
              "144    B\n",
              "72     M\n",
              "235    B\n",
              "37     B\n",
              "Name: diagnosis, Length: 284, dtype: object"
            ]
          },
          "execution_count": 8,
          "metadata": {},
          "output_type": "execute_result"
        }
      ],
      "source": [
        "BC_y_train"
      ]
    },
    {
      "cell_type": "markdown",
      "metadata": {
        "id": "c_6hblo1GYu1"
      },
      "source": [
        "## 4.1)Обучите следующие ансамблевые модели: одну из моделей группы бэггинга (бэггинг или случайный лес или сверхслучайные деревья);"
      ]
    },
    {
      "cell_type": "code",
      "execution_count": null,
      "metadata": {
        "colab": {
          "base_uri": "https://localhost:8080/",
          "height": 164
        },
        "id": "KJ-k_NPoGYu1",
        "outputId": "a1177dce-944c-4ae6-f141-92510e9930a9"
      },
      "outputs": [
        {
          "name": "stderr",
          "output_type": "stream",
          "text": [
            "/usr/local/lib/python3.10/dist-packages/sklearn/ensemble/_bagging.py:789: UserWarning: Some inputs do not have OOB scores. This probably means too few estimators were used to compute any reliable oob estimates.\n",
            "  warn(\n",
            "/usr/local/lib/python3.10/dist-packages/sklearn/ensemble/_bagging.py:795: RuntimeWarning: invalid value encountered in divide\n",
            "  oob_decision_function = predictions / predictions.sum(axis=1)[:, np.newaxis]\n"
          ]
        },
        {
          "data": {
            "text/html": [
              "<style>#sk-container-id-1 {color: black;background-color: white;}#sk-container-id-1 pre{padding: 0;}#sk-container-id-1 div.sk-toggleable {background-color: white;}#sk-container-id-1 label.sk-toggleable__label {cursor: pointer;display: block;width: 100%;margin-bottom: 0;padding: 0.3em;box-sizing: border-box;text-align: center;}#sk-container-id-1 label.sk-toggleable__label-arrow:before {content: \"▸\";float: left;margin-right: 0.25em;color: #696969;}#sk-container-id-1 label.sk-toggleable__label-arrow:hover:before {color: black;}#sk-container-id-1 div.sk-estimator:hover label.sk-toggleable__label-arrow:before {color: black;}#sk-container-id-1 div.sk-toggleable__content {max-height: 0;max-width: 0;overflow: hidden;text-align: left;background-color: #f0f8ff;}#sk-container-id-1 div.sk-toggleable__content pre {margin: 0.2em;color: black;border-radius: 0.25em;background-color: #f0f8ff;}#sk-container-id-1 input.sk-toggleable__control:checked~div.sk-toggleable__content {max-height: 200px;max-width: 100%;overflow: auto;}#sk-container-id-1 input.sk-toggleable__control:checked~label.sk-toggleable__label-arrow:before {content: \"▾\";}#sk-container-id-1 div.sk-estimator input.sk-toggleable__control:checked~label.sk-toggleable__label {background-color: #d4ebff;}#sk-container-id-1 div.sk-label input.sk-toggleable__control:checked~label.sk-toggleable__label {background-color: #d4ebff;}#sk-container-id-1 input.sk-hidden--visually {border: 0;clip: rect(1px 1px 1px 1px);clip: rect(1px, 1px, 1px, 1px);height: 1px;margin: -1px;overflow: hidden;padding: 0;position: absolute;width: 1px;}#sk-container-id-1 div.sk-estimator {font-family: monospace;background-color: #f0f8ff;border: 1px dotted black;border-radius: 0.25em;box-sizing: border-box;margin-bottom: 0.5em;}#sk-container-id-1 div.sk-estimator:hover {background-color: #d4ebff;}#sk-container-id-1 div.sk-parallel-item::after {content: \"\";width: 100%;border-bottom: 1px solid gray;flex-grow: 1;}#sk-container-id-1 div.sk-label:hover label.sk-toggleable__label {background-color: #d4ebff;}#sk-container-id-1 div.sk-serial::before {content: \"\";position: absolute;border-left: 1px solid gray;box-sizing: border-box;top: 0;bottom: 0;left: 50%;z-index: 0;}#sk-container-id-1 div.sk-serial {display: flex;flex-direction: column;align-items: center;background-color: white;padding-right: 0.2em;padding-left: 0.2em;position: relative;}#sk-container-id-1 div.sk-item {position: relative;z-index: 1;}#sk-container-id-1 div.sk-parallel {display: flex;align-items: stretch;justify-content: center;background-color: white;position: relative;}#sk-container-id-1 div.sk-item::before, #sk-container-id-1 div.sk-parallel-item::before {content: \"\";position: absolute;border-left: 1px solid gray;box-sizing: border-box;top: 0;bottom: 0;left: 50%;z-index: -1;}#sk-container-id-1 div.sk-parallel-item {display: flex;flex-direction: column;z-index: 1;position: relative;background-color: white;}#sk-container-id-1 div.sk-parallel-item:first-child::after {align-self: flex-end;width: 50%;}#sk-container-id-1 div.sk-parallel-item:last-child::after {align-self: flex-start;width: 50%;}#sk-container-id-1 div.sk-parallel-item:only-child::after {width: 0;}#sk-container-id-1 div.sk-dashed-wrapped {border: 1px dashed gray;margin: 0 0.4em 0.5em 0.4em;box-sizing: border-box;padding-bottom: 0.4em;background-color: white;}#sk-container-id-1 div.sk-label label {font-family: monospace;font-weight: bold;display: inline-block;line-height: 1.2em;}#sk-container-id-1 div.sk-label-container {text-align: center;}#sk-container-id-1 div.sk-container {/* jupyter's `normalize.less` sets `[hidden] { display: none; }` but bootstrap.min.css set `[hidden] { display: none !important; }` so we also need the `!important` here to be able to override the default hidden behavior on the sphinx rendered scikit-learn.org. See: https://github.com/scikit-learn/scikit-learn/issues/21755 */display: inline-block !important;position: relative;}#sk-container-id-1 div.sk-text-repr-fallback {display: none;}</style><div id=\"sk-container-id-1\" class=\"sk-top-container\"><div class=\"sk-text-repr-fallback\"><pre>BaggingClassifier(n_estimators=5, oob_score=True, random_state=10)</pre><b>In a Jupyter environment, please rerun this cell to show the HTML representation or trust the notebook. <br />On GitHub, the HTML representation is unable to render, please try loading this page with nbviewer.org.</b></div><div class=\"sk-container\" hidden><div class=\"sk-item\"><div class=\"sk-estimator sk-toggleable\"><input class=\"sk-toggleable__control sk-hidden--visually\" id=\"sk-estimator-id-1\" type=\"checkbox\" checked><label for=\"sk-estimator-id-1\" class=\"sk-toggleable__label sk-toggleable__label-arrow\">BaggingClassifier</label><div class=\"sk-toggleable__content\"><pre>BaggingClassifier(n_estimators=5, oob_score=True, random_state=10)</pre></div></div></div></div></div>"
            ],
            "text/plain": [
              "BaggingClassifier(n_estimators=5, oob_score=True, random_state=10)"
            ]
          },
          "execution_count": 9,
          "metadata": {},
          "output_type": "execute_result"
        }
      ],
      "source": [
        "\n",
        "# Обучим классификатор на 5 деревьях\n",
        "bc1 = BaggingClassifier(n_estimators=5, oob_score=True, random_state=10)\n",
        "bc1.fit(BC_X_train, BC_y_train)"
      ]
    },
    {
      "cell_type": "code",
      "execution_count": null,
      "metadata": {
        "colab": {
          "base_uri": "https://localhost:8080/"
        },
        "id": "qrpV4xsMGYu1",
        "outputId": "ddd6f1b8-98c2-465a-a14d-e2a3d25679e9"
      },
      "outputs": [
        {
          "data": {
            "text/plain": [
              "[array([137, 138, 254, 282, 202, 238, 179,  50,  34, 221, 280,  43, 242,\n",
              "        228, 236, 250, 243, 118, 104, 203,  27, 228, 187,  44,  69, 235,\n",
              "        234, 279, 108, 188,   0, 255,  50, 201,  78,  42, 112,  77, 156,\n",
              "          4, 114, 270,  56, 170,  39, 248, 196, 191,  43, 139, 237,  80,\n",
              "        127, 225,  56,  54, 199, 210, 110, 237, 220, 136, 260,  79,  60,\n",
              "        218, 111, 153, 114, 197, 102, 153,  14, 130, 107, 175, 219,  62,\n",
              "         37,  14,  52, 120, 224, 171, 176, 171, 213, 190,  39, 242, 104,\n",
              "         92, 150,  44, 139,  22, 255,  66, 163, 283, 241, 238,  40,  95,\n",
              "         92, 186, 202, 247, 219,  73, 187, 116,  48,  20, 124,  37,   7,\n",
              "        123,  38,  91, 163, 239, 263, 218,   0, 131,   3, 278, 167,  59,\n",
              "        236, 133,  20, 106, 162, 267, 274, 182,  46,  52, 160,  89, 217,\n",
              "         86,  37, 232, 223,  84, 281,  48, 183,  77, 277, 127,  63,  82,\n",
              "        242, 237, 281, 179, 201,  24,  46,  10, 276, 240,  83, 274, 158,\n",
              "         82, 169, 261, 272, 123,  45, 119,   5,  47, 106, 203,  72, 131,\n",
              "        283, 267,   6,  50, 240, 146, 162,  81, 136, 128, 128, 246,  77,\n",
              "        136,  93, 112,   1, 148, 122, 197, 232,  69, 142,  46,  96,  45,\n",
              "         48, 258, 208,   3, 282, 172, 123, 121, 202,  23, 217, 117, 175,\n",
              "        144,  45, 153,  58, 179,  17, 158, 249, 207,  30, 192, 187, 184,\n",
              "          9, 267,  54, 144,  72,  90,  15, 183, 283, 217, 202,  28, 250,\n",
              "        208, 127, 121,  97, 242,   6,   7, 163, 246,   6, 258, 119, 179,\n",
              "         98, 267, 204, 133, 221, 167, 195,  62, 145, 214, 247,  98,  56,\n",
              "        109,  95, 141, 124,  66,  63,  20, 128, 217, 131,  31]),\n",
              " array([ 95, 234, 245,  44, 136, 226,  87, 149,  68, 238, 102,  34, 273,\n",
              "         58, 162,  38,  79, 149,  88, 166, 237,  22, 112,  52, 152, 172,\n",
              "        275, 271,  49, 249, 178, 180,  14,  47, 161,  18, 242,  13,  13,\n",
              "        236, 152,  15,  57,  62, 180,  23,  16,  67,  50,  82,   7, 210,\n",
              "        105, 260, 206,  52,  35, 209,  67, 240, 216,  49, 103, 110, 272,\n",
              "         13, 125, 276, 256, 241, 276,  79, 157, 260, 219, 115,  18, 156,\n",
              "        131,  78, 263, 220, 103, 263,  21,  48, 185, 260, 192,  46, 112,\n",
              "         74, 186, 152, 182,  97,  17, 154,  10, 277,   2, 113, 249,  47,\n",
              "        103, 136,  43, 236, 264,  19, 199,  36,  38, 106,  37, 190,  19,\n",
              "         16, 132, 115, 163, 100, 215,  74,  39,  11, 167, 152,  76, 127,\n",
              "        115, 277,  28, 149, 141, 158,  10,  66, 140, 272,  89, 180, 150,\n",
              "         59, 241,  86, 191, 166,  13, 245, 123,  79,  68,  98,   5, 198,\n",
              "         74, 280, 219, 245, 274, 251, 129, 106, 131, 213, 159,  75,  22,\n",
              "        174,  91, 232, 102, 225,  94, 141, 137, 214, 212, 184, 172, 119,\n",
              "        247, 131,  12, 239,  53, 214,  27, 103,  37,  23, 267, 191, 180,\n",
              "        159, 267, 127, 258, 117, 283, 239, 197,  21, 153, 122,  82, 229,\n",
              "         89, 212, 171, 143, 133, 176, 225, 162,  77,  33,  43, 222, 197,\n",
              "        156, 107, 125,  32, 105,  73,  52,  50, 187, 134,   3, 190,  70,\n",
              "        181,  23, 116,  73, 135, 114,  90, 149, 187,  18,  64, 211, 141,\n",
              "         22, 140, 167, 143, 248, 169,   1, 131, 199, 228, 199,  45, 121,\n",
              "         65,  93, 215, 213,  18, 108, 224, 174, 209,   1, 136,  27, 193,\n",
              "        219, 187,  42, 135,  43, 229,  36,  75, 269,  32, 227]),\n",
              " array([131, 112,  54,  55, 205,  38, 249,  40, 274, 200,  54, 277,  82,\n",
              "        263,  72,  71,  51,  81, 216, 225, 200, 199,  24, 123, 194, 173,\n",
              "        245, 283, 214, 125, 215,  34, 178, 196, 139, 208, 141, 273, 114,\n",
              "        208,   7,   7, 196, 230,  20,   2, 149, 206, 193, 177, 248, 146,\n",
              "        175, 237, 243, 261, 179,  61,  30, 240, 116, 105,  54,  49,   8,\n",
              "        121, 241, 150, 242, 240,  18, 103,  58, 189, 201, 247,  33,  55,\n",
              "         27, 283, 143,  85,  31,  13,  29,  99, 148, 165,  11,  47, 259,\n",
              "        128, 180, 108,   9, 220,  79,  41,  22, 235,  85,  21, 166, 148,\n",
              "         86, 100, 198,  60, 201, 160, 195, 270, 269, 259, 121, 246, 151,\n",
              "        207,  89, 252, 209, 228, 227,  21, 213, 278, 145,  56,  33, 117,\n",
              "        221, 131, 253, 150, 231,   4, 267, 178,  75,  49,  43,  88, 170,\n",
              "        163,  93,  30,   7, 130,  93, 172,  54,  30, 199,  95, 181, 124,\n",
              "         85,   4,  65, 224,  20,  28, 199,  61, 270, 119, 244,  97, 217,\n",
              "        251, 152, 274,  37, 213,  90,  56,  64, 269,   6,  43, 246, 101,\n",
              "        182,  50,   1, 266, 276,  84,  67, 154,  80, 105,  36,  59,  86,\n",
              "        268, 239, 225, 194, 159, 193,  85,  93, 124, 246, 245,  84, 186,\n",
              "        180, 157,  89, 179, 151, 178, 108, 237, 125, 100, 237, 209, 158,\n",
              "         68, 110, 207,  77, 269, 259, 103, 118,  37, 240, 157,  79,  33,\n",
              "        207,  42, 113, 241,  55, 157, 228, 218,  61, 268, 155, 142, 276,\n",
              "         71, 249, 157, 185, 240, 283, 201,  74, 120, 158, 271, 282,  35,\n",
              "        190, 266,   4, 172, 148, 222, 131, 233,   9,  91, 124, 260, 126,\n",
              "        225,  93, 180, 136, 279, 249, 275, 112,  22, 194,  47]),\n",
              " array([104,  86, 271, 209, 202, 166, 204, 239, 120, 156, 167,  85,  34,\n",
              "         42, 174,  98, 114,  44, 222,  88,   7, 127, 182, 274, 201,  20,\n",
              "        270,   5, 101, 102, 196, 130, 217,  29, 204, 111, 246, 185, 248,\n",
              "         22,  91,  26,  42, 261, 150, 217, 100,  55,  55, 204, 161, 190,\n",
              "        196, 245, 209, 173, 186,  20,  94, 206,  59,  82, 133,  43,  69,\n",
              "        250,  99, 250, 111, 187, 250, 224,  41,  68,  27,  85, 149, 123,\n",
              "        122,  80, 196,   1,  93, 186,  68, 263, 262, 173,  77, 281, 137,\n",
              "         23, 123, 235,  22,  98, 259, 182, 128,   0, 192, 259, 271, 212,\n",
              "        145, 242, 105, 147,  95, 255,  92, 132, 182, 173, 259, 158, 255,\n",
              "        122, 248, 239, 254,  72, 105,  49,  49, 243, 230, 234, 242, 192,\n",
              "        206, 126,  89, 221, 266,  40, 238, 220,  33,  74,  15, 267, 250,\n",
              "        157, 234, 271, 191, 117,  78, 111,  55, 278,  49,  70,  54, 218,\n",
              "        113, 106, 231, 221, 148, 269, 188, 267,  74,  96, 224, 213, 243,\n",
              "         26, 142, 187, 117, 282, 232, 137,  26,  49,   7,  92,   2, 239,\n",
              "         93, 189,  66, 213,  25, 127, 156, 110, 120,   2,  62,  21, 139,\n",
              "        112, 232,  36, 223,  93, 164, 213, 234, 116, 176,   3, 199, 152,\n",
              "        108, 128,  15, 125, 140, 219, 203, 126, 277, 214, 164,  19, 182,\n",
              "        265,  71, 255, 231,  37,   0, 102, 139,  19, 110, 111,  76, 113,\n",
              "         56, 137,  21, 254, 163, 195,  53,  18, 244,  94, 280, 237,  50,\n",
              "        159,  83,  51, 261, 201, 246, 160, 200, 213,  96, 110, 154,  90,\n",
              "        139,  27, 252, 181, 144,  40, 222,  98, 167, 123,   7, 168,  61,\n",
              "        109, 279, 126,  39,  58, 123,  86, 247, 267,  12,  59]),\n",
              " array([144, 270, 119, 229, 201, 223, 209,  54, 112, 264, 280, 167,  68,\n",
              "        139, 269, 236,  11, 112,  42, 126, 178, 273,  71,  17, 142, 139,\n",
              "        127,  56,  94, 276, 251,  81, 234,  90, 172, 251, 264,  40, 204,\n",
              "          1, 264, 260,  44, 144,  47, 280,  73, 112, 222, 135, 217,  86,\n",
              "        215, 129,  81,  92, 221, 235, 180, 120, 125, 224, 108,  97, 156,\n",
              "        203, 111, 277,  22,  21, 217, 247, 279, 189, 122, 124, 103, 252,\n",
              "         78, 154,  12, 244,   3, 267,  64,  95, 189, 217, 238, 231, 100,\n",
              "         24, 137, 237,   3, 250, 195,  28, 270, 263,  22, 155, 241,  32,\n",
              "        115,  37, 197,  32,  97,  28, 161,   4, 230, 147, 275, 232, 108,\n",
              "        227,  86, 112,  79,  76, 124, 176, 247,  52,  28,   2, 196, 220,\n",
              "        282,  65, 155,  32, 220,  19,  79,  59, 257, 139, 102, 195,  58,\n",
              "        218, 200, 128, 177,  87,  58, 204,  88, 120,  87, 130,  23, 273,\n",
              "         56,  71,  53, 189,  86, 236, 191,  86, 130,  94,  39, 147, 160,\n",
              "        131, 178, 221, 228, 283,  27,  90, 209,  18, 153,  42, 139,  65,\n",
              "        248, 109, 282, 160, 280, 154, 191, 156, 195,  61, 138,  54, 242,\n",
              "         32, 232, 209, 247,  32,  22, 161, 204, 184,  68, 167, 101, 273,\n",
              "        195,  34, 101, 185, 118,  56,  56, 110, 263, 128,  45, 202,   8,\n",
              "        222, 101, 132,  86, 130,  51, 255, 280, 157, 255, 141, 282, 281,\n",
              "         63,  64, 219, 232, 248, 162,  44,  67,   4, 245,  56, 221, 263,\n",
              "         63, 138, 177, 107, 143, 111, 215,  25, 163, 280,  45, 115, 266,\n",
              "         67, 188, 282,  86, 111, 274,  27, 232, 199, 270,   9,  65,  19,\n",
              "        161, 185, 216, 220, 249, 274,  72,  28, 274,  40, 157])]"
            ]
          },
          "execution_count": 10,
          "metadata": {},
          "output_type": "execute_result"
        }
      ],
      "source": [
        "# Какие объекты были использованы в обучающей выборке каждого дерева\n",
        "bc1.estimators_samples_\n"
      ]
    },
    {
      "cell_type": "code",
      "execution_count": null,
      "metadata": {
        "colab": {
          "base_uri": "https://localhost:8080/"
        },
        "id": "zCO-R_UHGYu1",
        "outputId": "95bb8121-4534-4388-8dfc-25cb08f0503c"
      },
      "outputs": [
        {
          "data": {
            "text/plain": [
              "array([[1., 1., 0., ..., 1., 1., 1.],\n",
              "       [0., 1., 1., ..., 0., 0., 1.],\n",
              "       [0., 1., 1., ..., 0., 1., 1.],\n",
              "       [1., 1., 1., ..., 1., 1., 0.],\n",
              "       [0., 1., 1., ..., 1., 1., 1.]])"
            ]
          },
          "execution_count": 11,
          "metadata": {},
          "output_type": "execute_result"
        }
      ],
      "source": [
        "# Сконвертируем эти данные в двоичную матрицу,\n",
        "# 1 соответствует элементам, попавшим в обучающую выборку\n",
        "bin_array = np.zeros((5, BC_X_train.shape[0]))\n",
        "for i in range(5):\n",
        "    for j in bc1.estimators_samples_[i]:\n",
        "        bin_array[i][j] = 1\n",
        "bin_array"
      ]
    },
    {
      "cell_type": "code",
      "execution_count": null,
      "metadata": {
        "colab": {
          "base_uri": "https://localhost:8080/",
          "height": 220
        },
        "id": "niivCrasGYu1",
        "outputId": "8c1642d7-ec54-4c9e-c312-6e1672022e67"
      },
      "outputs": [
        {
          "data": {
            "image/png": "[encoded data removed]",
            "text/plain": [
              "<Figure size 1200x200 with 1 Axes>"
            ]
          },
          "metadata": {},
          "output_type": "display_data"
        }
      ],
      "source": [
        "# И визуализируем (синим цветом показаны данные, которые попали в обучающую выборку)\n",
        "fig, ax = plt.subplots(figsize=(12,2))\n",
        "ax.pcolor(bin_array, cmap='YlGnBu')\n",
        "plt.show()"
      ]
    },
    {
      "cell_type": "code",
      "execution_count": null,
      "metadata": {
        "colab": {
          "base_uri": "https://localhost:8080/"
        },
        "id": "4CigAh6GGYu1",
        "outputId": "d7036858-91bc-4105-b21d-f09b9aec905f"
      },
      "outputs": [
        {
          "name": "stdout",
          "output_type": "stream",
          "text": [
            "Для модели № 1 размер OOB составляет 37.68%\n",
            "Для модели № 2 размер OOB составляет 36.27%\n",
            "Для модели № 3 размер OOB составляет 34.86%\n",
            "Для модели № 4 размер OOB составляет 35.56%\n",
            "Для модели № 5 размер OOB составляет 40.849999999999994%\n"
          ]
        }
      ],
      "source": [
        "# Оценим Out-of-bag error, теоретическое значение 37%\n",
        "for i in range(5):\n",
        "    cur_data = bin_array[i]\n",
        "    len_cur_data = len(cur_data)\n",
        "    sum_cur_data = sum(cur_data)\n",
        "    (len(bin_array[0]) - sum(bin_array[0])) / len(bin_array[0])\n",
        "    oob_i = (len_cur_data - sum_cur_data) / len_cur_data\n",
        "    print('Для модели № {} размер OOB составляет {}%'.format(i+1, round(oob_i, 4)*100.0))"
      ]
    },
    {
      "cell_type": "code",
      "execution_count": null,
      "metadata": {
        "colab": {
          "base_uri": "https://localhost:8080/"
        },
        "id": "6obGG52AGYu2",
        "outputId": "83f5e53e-aa52-4d9d-b339-f48d0057054a"
      },
      "outputs": [
        {
          "data": {
            "text/plain": [
              "(0.9154929577464789, 0.08450704225352113)"
            ]
          },
          "execution_count": 14,
          "metadata": {},
          "output_type": "execute_result"
        }
      ],
      "source": [
        "# Out-of-bag error, возвращаемый классификатором\n",
        "# Для классификации используется метрика accuracy\n",
        "bc1.oob_score_, 1-bc1.oob_score_"
      ]
    },
    {
      "cell_type": "markdown",
      "metadata": {
        "id": "8nwGvcIsGYu2"
      },
      "source": [
        "## 4.2)Обучите следующие ансамблевые модели: одну из моделей группы бустинга;"
      ]
    },
    {
      "cell_type": "code",
      "execution_count": null,
      "metadata": {
        "colab": {
          "base_uri": "https://localhost:8080/",
          "height": 75
        },
        "id": "sS0v3MQeGYu2",
        "outputId": "972d4666-2481-48aa-ab75-c7d771a6d586"
      },
      "outputs": [
        {
          "data": {
            "text/html": [
              "<style>#sk-container-id-2 {color: black;background-color: white;}#sk-container-id-2 pre{padding: 0;}#sk-container-id-2 div.sk-toggleable {background-color: white;}#sk-container-id-2 label.sk-toggleable__label {cursor: pointer;display: block;width: 100%;margin-bottom: 0;padding: 0.3em;box-sizing: border-box;text-align: center;}#sk-container-id-2 label.sk-toggleable__label-arrow:before {content: \"▸\";float: left;margin-right: 0.25em;color: #696969;}#sk-container-id-2 label.sk-toggleable__label-arrow:hover:before {color: black;}#sk-container-id-2 div.sk-estimator:hover label.sk-toggleable__label-arrow:before {color: black;}#sk-container-id-2 div.sk-toggleable__content {max-height: 0;max-width: 0;overflow: hidden;text-align: left;background-color: #f0f8ff;}#sk-container-id-2 div.sk-toggleable__content pre {margin: 0.2em;color: black;border-radius: 0.25em;background-color: #f0f8ff;}#sk-container-id-2 input.sk-toggleable__control:checked~div.sk-toggleable__content {max-height: 200px;max-width: 100%;overflow: auto;}#sk-container-id-2 input.sk-toggleable__control:checked~label.sk-toggleable__label-arrow:before {content: \"▾\";}#sk-container-id-2 div.sk-estimator input.sk-toggleable__control:checked~label.sk-toggleable__label {background-color: #d4ebff;}#sk-container-id-2 div.sk-label input.sk-toggleable__control:checked~label.sk-toggleable__label {background-color: #d4ebff;}#sk-container-id-2 input.sk-hidden--visually {border: 0;clip: rect(1px 1px 1px 1px);clip: rect(1px, 1px, 1px, 1px);height: 1px;margin: -1px;overflow: hidden;padding: 0;position: absolute;width: 1px;}#sk-container-id-2 div.sk-estimator {font-family: monospace;background-color: #f0f8ff;border: 1px dotted black;border-radius: 0.25em;box-sizing: border-box;margin-bottom: 0.5em;}#sk-container-id-2 div.sk-estimator:hover {background-color: #d4ebff;}#sk-container-id-2 div.sk-parallel-item::after {content: \"\";width: 100%;border-bottom: 1px solid gray;flex-grow: 1;}#sk-container-id-2 div.sk-label:hover label.sk-toggleable__label {background-color: #d4ebff;}#sk-container-id-2 div.sk-serial::before {content: \"\";position: absolute;border-left: 1px solid gray;box-sizing: border-box;top: 0;bottom: 0;left: 50%;z-index: 0;}#sk-container-id-2 div.sk-serial {display: flex;flex-direction: column;align-items: center;background-color: white;padding-right: 0.2em;padding-left: 0.2em;position: relative;}#sk-container-id-2 div.sk-item {position: relative;z-index: 1;}#sk-container-id-2 div.sk-parallel {display: flex;align-items: stretch;justify-content: center;background-color: white;position: relative;}#sk-container-id-2 div.sk-item::before, #sk-container-id-2 div.sk-parallel-item::before {content: \"\";position: absolute;border-left: 1px solid gray;box-sizing: border-box;top: 0;bottom: 0;left: 50%;z-index: -1;}#sk-container-id-2 div.sk-parallel-item {display: flex;flex-direction: column;z-index: 1;position: relative;background-color: white;}#sk-container-id-2 div.sk-parallel-item:first-child::after {align-self: flex-end;width: 50%;}#sk-container-id-2 div.sk-parallel-item:last-child::after {align-self: flex-start;width: 50%;}#sk-container-id-2 div.sk-parallel-item:only-child::after {width: 0;}#sk-container-id-2 div.sk-dashed-wrapped {border: 1px dashed gray;margin: 0 0.4em 0.5em 0.4em;box-sizing: border-box;padding-bottom: 0.4em;background-color: white;}#sk-container-id-2 div.sk-label label {font-family: monospace;font-weight: bold;display: inline-block;line-height: 1.2em;}#sk-container-id-2 div.sk-label-container {text-align: center;}#sk-container-id-2 div.sk-container {/* jupyter's `normalize.less` sets `[hidden] { display: none; }` but bootstrap.min.css set `[hidden] { display: none !important; }` so we also need the `!important` here to be able to override the default hidden behavior on the sphinx rendered scikit-learn.org. See: https://github.com/scikit-learn/scikit-learn/issues/21755 */display: inline-block !important;position: relative;}#sk-container-id-2 div.sk-text-repr-fallback {display: none;}</style><div id=\"sk-container-id-2\" class=\"sk-top-container\"><div class=\"sk-text-repr-fallback\"><pre>GradientBoostingClassifier(n_estimators=5, random_state=10)</pre><b>In a Jupyter environment, please rerun this cell to show the HTML representation or trust the notebook. <br />On GitHub, the HTML representation is unable to render, please try loading this page with nbviewer.org.</b></div><div class=\"sk-container\" hidden><div class=\"sk-item\"><div class=\"sk-estimator sk-toggleable\"><input class=\"sk-toggleable__control sk-hidden--visually\" id=\"sk-estimator-id-2\" type=\"checkbox\" checked><label for=\"sk-estimator-id-2\" class=\"sk-toggleable__label sk-toggleable__label-arrow\">GradientBoostingClassifier</label><div class=\"sk-toggleable__content\"><pre>GradientBoostingClassifier(n_estimators=5, random_state=10)</pre></div></div></div></div></div>"
            ],
            "text/plain": [
              "GradientBoostingClassifier(n_estimators=5, random_state=10)"
            ]
          },
          "execution_count": 15,
          "metadata": {},
          "output_type": "execute_result"
        }
      ],
      "source": [
        "# Обучим классификатор на 5 деревьях\n",
        "ab1 = GradientBoostingClassifier(n_estimators=5, random_state=10)\n",
        "ab1.fit(BC_X_train, BC_y_train)"
      ]
    },
    {
      "cell_type": "code",
      "execution_count": null,
      "metadata": {
        "colab": {
          "base_uri": "https://localhost:8080/"
        },
        "id": "yC-pEfxYGYu2",
        "outputId": "49231753-d5b8-4213-9dcd-23249bb5e75c"
      },
      "outputs": [
        {
          "data": {
            "text/plain": [
              "0.9017543859649123"
            ]
          },
          "execution_count": 16,
          "metadata": {},
          "output_type": "execute_result"
        }
      ],
      "source": [
        "# Out-of-bag error, возвращаемый классификатором\n",
        "# Для классификации используется метрика accuracy\n",
        "ab1.score(BC_X_test,BC_y_test)"
      ]
    },
    {
      "cell_type": "markdown",
      "metadata": {
        "id": "9XHOrnuvGYu2"
      },
      "source": [
        "## 4.3)Обучите следующие ансамблевые модели: одну из моделей группы стекинга."
      ]
    },
    {
      "cell_type": "code",
      "execution_count": null,
      "metadata": {
        "id": "vFj2W83XGYu2"
      },
      "outputs": [],
      "source": [
        "from heamy.estimator import Regressor, Classifier\n",
        "from heamy.pipeline import ModelsPipeline\n",
        "from heamy.dataset import Dataset\n"
      ]
    },
    {
      "cell_type": "code",
      "execution_count": null,
      "metadata": {
        "id": "l36vimz2GYu2"
      },
      "outputs": [],
      "source": [
        "boston = load_iris()\n",
        "boston_X, boston_y = boston['data'], boston['target']\n",
        "boston_X_train, boston_X_test, boston_y_train, boston_y_test = train_test_split(\n",
        "    boston_X, boston_y, test_size=0.2, random_state=1)"
      ]
    },
    {
      "cell_type": "code",
      "execution_count": null,
      "metadata": {
        "id": "nZfdtRuNGYu2"
      },
      "outputs": [],
      "source": [
        "# Качество отдельных моделей\n",
        "def val_mae(model):\n",
        "    model.fit(boston_X_train, boston_y_train)\n",
        "    y_pred = model.predict(boston_X_test)\n",
        "    result = mean_absolute_error(boston_y_test, y_pred)\n",
        "    print(model)\n",
        "    print('MAE={}'.format(result))"
      ]
    },
    {
      "cell_type": "code",
      "execution_count": null,
      "metadata": {
        "colab": {
          "base_uri": "https://localhost:8080/"
        },
        "id": "q1MHRT7QGYu2",
        "outputId": "3f98292f-4090-4441-9a5d-4422458295f5"
      },
      "outputs": [
        {
          "name": "stdout",
          "output_type": "stream",
          "text": [
            "LinearRegression()\n",
            "MAE=0.20421913597428992\n",
            "==========================\n",
            "\n",
            "DecisionTreeRegressor()\n",
            "MAE=0.03333333333333333\n",
            "==========================\n",
            "\n",
            "RandomForestRegressor(n_estimators=50)\n",
            "MAE=0.035333333333333335\n",
            "==========================\n",
            "\n"
          ]
        }
      ],
      "source": [
        "# Точность на отдельных моделях\n",
        "for model in [\n",
        "    LinearRegression(),\n",
        "    DecisionTreeRegressor(),\n",
        "    RandomForestRegressor(n_estimators=50)\n",
        "]:\n",
        "    val_mae(model)\n",
        "    print('==========================')\n",
        "    print()"
      ]
    },
    {
      "cell_type": "code",
      "execution_count": null,
      "metadata": {
        "id": "NpgUa6T6GYu2"
      },
      "outputs": [],
      "source": [
        "# Используем библиотеку heamy\n",
        "# набор данных\n",
        "dataset = Dataset(boston_X_train, boston_y_train, boston_X_test)\n",
        "\n",
        "# модели первого уровня\n",
        "model_tree = Regressor(dataset=dataset, estimator=DecisionTreeRegressor, name='tree')\n",
        "model_lr = Regressor(dataset=dataset, estimator=LinearRegression,name='lr')\n",
        "model_rf = Regressor(dataset=dataset, estimator=RandomForestRegressor, parameters={'n_estimators': 50},name='rf')"
      ]
    },
    {
      "cell_type": "code",
      "execution_count": null,
      "metadata": {
        "colab": {
          "base_uri": "https://localhost:8080/"
        },
        "id": "8qPdfL-cGYu2",
        "outputId": "e7c43463-2ff7-4004-9355-ed71c34c07cc"
      },
      "outputs": [
        {
          "name": "stdout",
          "output_type": "stream",
          "text": [
            "Metric: mean_absolute_error\n",
            "Folds accuracy: [0.09855225393260302, 0.05513163692677401, 0.12019959034079447, 0.1281020663918626, 0.1315852642204002, 0.12140132330966025, 0.14083833015768113, 0.07243747269855232, 0.05375269746408776, 0.056055606326609865]\n",
            "Mean accuracy: 0.09780562417690256\n",
            "Standard Deviation: 0.03334350478009641\n",
            "Variance: 0.0011117893110203121\n"
          ]
        }
      ],
      "source": [
        "# Эксперимент 1\n",
        "# Первый уровень - две модели: дерево и линейная регрессия\n",
        "# Второй уровень: линейная регрессия\n",
        "\n",
        "pipeline = ModelsPipeline(model_tree, model_lr)\n",
        "stack_ds = pipeline.stack(k=10, seed=1)\n",
        "# модель второго уровня\n",
        "stacker = Regressor(dataset=stack_ds, estimator=LinearRegression)\n",
        "results = stacker.validate(k=10,scorer=mean_absolute_error)"
      ]
    },
    {
      "cell_type": "code",
      "execution_count": null,
      "metadata": {
        "colab": {
          "base_uri": "https://localhost:8080/"
        },
        "id": "YYcA83ndGYu2",
        "outputId": "0c7b2438-a5a7-4742-ce99-71a0bc38d6c0"
      },
      "outputs": [
        {
          "name": "stdout",
          "output_type": "stream",
          "text": [
            "Metric: mean_absolute_error\n",
            "Folds accuracy: [0.003333333333333336, 0.0, 0.025000000000000005, 0.014999999999999994, 0.09583333333333333, 0.009166666666666675, 0.02833333333333334, 0.023333333333333317, 0.0, 0.0]\n",
            "Mean accuracy: 0.019999999999999997\n",
            "Standard Deviation: 0.02734298610044062\n",
            "Variance: 0.0007476388888888889\n"
          ]
        }
      ],
      "source": [
        "# Эксперимент 2\n",
        "# Первый уровень - две модели: дерево и линейная регрессия\n",
        "# Второй уровень: случайный лес\n",
        "\n",
        "stacker = Regressor(dataset=stack_ds, estimator=RandomForestRegressor)\n",
        "results = stacker.validate(k=10,scorer=mean_absolute_error)"
      ]
    },
    {
      "cell_type": "code",
      "execution_count": null,
      "metadata": {
        "colab": {
          "base_uri": "https://localhost:8080/"
        },
        "id": "ulupn49oGYu2",
        "outputId": "769d3999-0522-445e-d337-62a11de86235"
      },
      "outputs": [
        {
          "name": "stdout",
          "output_type": "stream",
          "text": [
            "Metric: mean_absolute_error\n",
            "Folds accuracy: [0.07283389888756775, 0.04467163061319813, 0.115628838400734, 0.10816200551543664, 0.14192202162157283, 0.09789960073498831, 0.12992507801188594, 0.06386392167051741, 0.03400588994590719, 0.03163300289625622]\n",
            "Mean accuracy: 0.08405458882980645\n",
            "Standard Deviation: 0.038157575838039415\n",
            "Variance: 0.0014560005938357293\n"
          ]
        }
      ],
      "source": [
        "# Эксперимент 3\n",
        "# Первый уровень - три модели: дерево, линейная регрессия и случайный лес\n",
        "# Второй уровень: линейная регрессия\n",
        "pipeline = ModelsPipeline(model_tree, model_lr, model_rf)\n",
        "stack_ds3 = pipeline.stack(k=10, seed=1)\n",
        "# модель второго уровня\n",
        "stacker = Regressor(dataset=stack_ds3, estimator=LinearRegression)\n",
        "results = stacker.validate(k=10,scorer=mean_absolute_error)"
      ]
    },
    {
      "cell_type": "code",
      "execution_count": null,
      "metadata": {
        "colab": {
          "base_uri": "https://localhost:8080/"
        },
        "id": "GxTzJj7OGYu2",
        "outputId": "39916330-b445-4553-aff8-31425eef9b9e"
      },
      "outputs": [
        {
          "name": "stdout",
          "output_type": "stream",
          "text": [
            "Metric: mean_absolute_error\n",
            "Folds accuracy: [0.01833333333333335, 0.023333333333333334, 0.065, 0.0375, 0.08666666666666667, 0.003333333333333336, 0.057499999999999996, 0.03583333333333335, 0.0, 0.0]\n",
            "Mean accuracy: 0.03275\n",
            "Standard Deviation: 0.028104591360764448\n",
            "Variance: 0.0007898680555555556\n"
          ]
        }
      ],
      "source": [
        "# Эксперимент 4\n",
        "# Первый уровень - три модели: дерево, линейная регрессия и случайный лес\n",
        "# Второй уровень: случайный лес\n",
        "# Результат хуже чем в эксперименте 3\n",
        "stacker = Regressor(dataset=stack_ds3, estimator=RandomForestRegressor)\n",
        "results = stacker.validate(k=10,scorer=mean_absolute_error)"
      ]
    },
    {
      "cell_type": "code",
      "execution_count": null,
      "metadata": {
        "id": "6aoZm9UOGYu2"
      },
      "outputs": [],
      "source": []
    }
  ],
  "metadata": {
    "colab": {
      "provenance": []
    },
    "kernelspec": {
      "display_name": "Python 3",
      "language": "python",
      "name": "python3"
    },
    "language_info": {
      "codemirror_mode": {
        "name": "ipython",
        "version": 3
      },
      "file_extension": ".py",
      "mimetype": "text/x-python",
      "name": "python",
      "nbconvert_exporter": "python",
      "pygments_lexer": "ipython3",
      "version": "3.10.12"
    }
  },
  "nbformat": 4,
  "nbformat_minor": 0
}
